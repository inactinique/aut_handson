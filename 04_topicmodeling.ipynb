{
 "cells": [
  {
   "cell_type": "markdown",
   "metadata": {},
   "source": [
    "# Topic Modeling on web-pages"
   ]
  },
  {
   "cell_type": "markdown",
   "metadata": {},
   "source": [
    "Based on the default topic-modeling notebook proposed by dataiku.\n",
    "\n",
    "Please be carefull: We are playing here with the whole dataset. Vectorizing, for instance, will take several hours."
   ]
  },
  {
   "cell_type": "markdown",
   "metadata": {},
   "source": [
    "## Setup and dataset loading <a id=\"setup\" />\n",
    "\n",
    "**This notebook requires the installation of the [pyLDAvis](https://pyldavis.readthedocs.io/en/latest/readme.html#installation) package.**\n",
    "[See here for help with intalling python packages.](https://www.dataiku.com/learn/guide/code/python/install-python-packages.html)"
   ]
  },
  {
   "cell_type": "code",
   "execution_count": 1,
   "metadata": {},
   "outputs": [
    {
     "name": "stdout",
     "output_type": "stream",
     "text": [
      "Populating the interactive namespace from numpy and matplotlib\n"
     ]
    }
   ],
   "source": [
    "# to install the required packages. Uncomment the two next lines if necessary\n",
    "# !pip install --upgrade pip\n",
    "# !pip install pandas seaborn sklearn pyldavis\n",
    "\n",
    "%pylab inline\n",
    "import warnings                         # Disable some warnings\n",
    "warnings.filterwarnings(\"ignore\",category=DeprecationWarning)\n",
    "#from dataiku import pandasutils as pdu\n",
    "import pandas as pd\n",
    "import seaborn as sns\n",
    "from sklearn.feature_extraction.text import CountVectorizer, TfidfVectorizer\n",
    "from sklearn.feature_extraction import text \n",
    "\n",
    "from sklearn.decomposition import LatentDirichletAllocation,NMF\n",
    "import pyLDAvis\n",
    "import pyLDAvis.gensim_models as gensimvis\n",
    "pyLDAvis.enable_notebook()\n",
    "from stop_words import get_stop_words"
   ]
  },
  {
   "cell_type": "markdown",
   "metadata": {},
   "source": [
    "## Let's create the French and English corpora"
   ]
  },
  {
   "cell_type": "markdown",
   "metadata": {},
   "source": [
    "The following cell will take some time."
   ]
  },
  {
   "cell_type": "code",
   "execution_count": 2,
   "metadata": {},
   "outputs": [],
   "source": [
    "# First, we load web-pages.csv as a dataframe\n",
    "web_pages = pd.read_csv('data/web-pages.csv') # add nrows = 1000 to load only the first 1000 lines.\n",
    "\n",
    "# We create a mask where the language column = en\n",
    "web_pages_mask_en = web_pages['language']=='en'\n",
    "# web_pages_mask_fr = web_pages['language']=='fr'\n",
    "\n",
    "# We apply this mask to web_pages so that our new dataframe is web_pages_en\n",
    "web_pages_en = web_pages[web_pages_mask_en]\n",
    "# web_pages_fr = web_pages[web_pages_mask_fr]\n"
   ]
  },
  {
   "cell_type": "code",
   "execution_count": 3,
   "metadata": {},
   "outputs": [],
   "source": [
    "# we delete the web_pages dataframe as we don't need it anymore\n",
    "del web_pages"
   ]
  },
  {
   "cell_type": "code",
   "execution_count": 4,
   "metadata": {},
   "outputs": [
    {
     "data": {
      "text/html": [
       "<div>\n",
       "<style scoped>\n",
       "    .dataframe tbody tr th:only-of-type {\n",
       "        vertical-align: middle;\n",
       "    }\n",
       "\n",
       "    .dataframe tbody tr th {\n",
       "        vertical-align: top;\n",
       "    }\n",
       "\n",
       "    .dataframe thead th {\n",
       "        text-align: right;\n",
       "    }\n",
       "</style>\n",
       "<table border=\"1\" class=\"dataframe\">\n",
       "  <thead>\n",
       "    <tr style=\"text-align: right;\">\n",
       "      <th></th>\n",
       "      <th>crawl_date</th>\n",
       "      <th>domain</th>\n",
       "      <th>url</th>\n",
       "      <th>mime_type_web_server</th>\n",
       "      <th>mime_type_tika</th>\n",
       "      <th>language</th>\n",
       "      <th>content</th>\n",
       "    </tr>\n",
       "  </thead>\n",
       "  <tbody>\n",
       "    <tr>\n",
       "      <th>1</th>\n",
       "      <td>20120118</td>\n",
       "      <td>feedburner.com</td>\n",
       "      <td>http://feeds.feedburner.com/QuoteSnack</td>\n",
       "      <td>text/html</td>\n",
       "      <td>text/html</td>\n",
       "      <td>en</td>\n",
       "      <td>Stop SOPA! If Congress passes SOPA, the Intern...</td>\n",
       "    </tr>\n",
       "    <tr>\n",
       "      <th>2</th>\n",
       "      <td>20120118</td>\n",
       "      <td>thedeadcrows.com</td>\n",
       "      <td>http://thedeadcrows.com/sopa.html</td>\n",
       "      <td>text/html</td>\n",
       "      <td>application/xhtml+xml</td>\n",
       "      <td>en</td>\n",
       "      <td>STOP SOPA! STOP SOPA! STOP SOPA! This site has...</td>\n",
       "    </tr>\n",
       "    <tr>\n",
       "      <th>3</th>\n",
       "      <td>20120118</td>\n",
       "      <td>youtube.com</td>\n",
       "      <td>http://www.youtube.com/embed/WU_gZNVfuf0?wmode...</td>\n",
       "      <td>text/html</td>\n",
       "      <td>text/html</td>\n",
       "      <td>en</td>\n",
       "      <td>Life in a Day Soundtrack - Angolan Women - You...</td>\n",
       "    </tr>\n",
       "    <tr>\n",
       "      <th>4</th>\n",
       "      <td>20120118</td>\n",
       "      <td>selectivism.com</td>\n",
       "      <td>http://selectivism.com/2010/02/</td>\n",
       "      <td>text/html</td>\n",
       "      <td>application/xhtml+xml</td>\n",
       "      <td>en</td>\n",
       "      <td>2010  February : Selectivism ABOUT TIP-OFF CON...</td>\n",
       "    </tr>\n",
       "    <tr>\n",
       "      <th>6</th>\n",
       "      <td>20120118</td>\n",
       "      <td>hackedgadgets.com</td>\n",
       "      <td>http://hackedgadgets.com/2007/02/</td>\n",
       "      <td>text/html</td>\n",
       "      <td>application/xhtml+xml</td>\n",
       "      <td>en</td>\n",
       "      <td>2007  February - Hacked Gadgets – DIY Tech Blo...</td>\n",
       "    </tr>\n",
       "    <tr>\n",
       "      <th>...</th>\n",
       "      <td>...</td>\n",
       "      <td>...</td>\n",
       "      <td>...</td>\n",
       "      <td>...</td>\n",
       "      <td>...</td>\n",
       "      <td>...</td>\n",
       "      <td>...</td>\n",
       "    </tr>\n",
       "    <tr>\n",
       "      <th>219986</th>\n",
       "      <td>20120118</td>\n",
       "      <td>eff.org</td>\n",
       "      <td>https://www.eff.org/deeplinks/2012/01/sites/al...</td>\n",
       "      <td>text/html</td>\n",
       "      <td>application/xhtml+xml</td>\n",
       "      <td>en</td>\n",
       "      <td>Electronic Frontier Foundation | Defending you...</td>\n",
       "    </tr>\n",
       "    <tr>\n",
       "      <th>219987</th>\n",
       "      <td>20120118</td>\n",
       "      <td>eff.org</td>\n",
       "      <td>https://www.eff.org/deeplinks/2012/01/sites/al...</td>\n",
       "      <td>text/html</td>\n",
       "      <td>application/xhtml+xml</td>\n",
       "      <td>en</td>\n",
       "      <td>Electronic Frontier Foundation | Defending you...</td>\n",
       "    </tr>\n",
       "    <tr>\n",
       "      <th>219988</th>\n",
       "      <td>20120118</td>\n",
       "      <td>eff.org</td>\n",
       "      <td>https://www.eff.org/deeplinks/2012/01/sites/al...</td>\n",
       "      <td>text/html</td>\n",
       "      <td>application/xhtml+xml</td>\n",
       "      <td>en</td>\n",
       "      <td>Electronic Frontier Foundation | Defending you...</td>\n",
       "    </tr>\n",
       "    <tr>\n",
       "      <th>219989</th>\n",
       "      <td>20120118</td>\n",
       "      <td>eff.org</td>\n",
       "      <td>https://www.eff.org/deeplinks/2012/01/0.8</td>\n",
       "      <td>text/html</td>\n",
       "      <td>application/xhtml+xml</td>\n",
       "      <td>en</td>\n",
       "      <td>Electronic Frontier Foundation | Defending you...</td>\n",
       "    </tr>\n",
       "    <tr>\n",
       "      <th>219990</th>\n",
       "      <td>20120118</td>\n",
       "      <td>eff.org</td>\n",
       "      <td>https://www.eff.org/deeplinks/2012/01/form.new...</td>\n",
       "      <td>text/html</td>\n",
       "      <td>application/xhtml+xml</td>\n",
       "      <td>en</td>\n",
       "      <td>Electronic Frontier Foundation | Defending you...</td>\n",
       "    </tr>\n",
       "  </tbody>\n",
       "</table>\n",
       "<p>135484 rows × 7 columns</p>\n",
       "</div>"
      ],
      "text/plain": [
       "        crawl_date             domain  \\\n",
       "1         20120118     feedburner.com   \n",
       "2         20120118   thedeadcrows.com   \n",
       "3         20120118        youtube.com   \n",
       "4         20120118    selectivism.com   \n",
       "6         20120118  hackedgadgets.com   \n",
       "...            ...                ...   \n",
       "219986    20120118            eff.org   \n",
       "219987    20120118            eff.org   \n",
       "219988    20120118            eff.org   \n",
       "219989    20120118            eff.org   \n",
       "219990    20120118            eff.org   \n",
       "\n",
       "                                                      url  \\\n",
       "1                  http://feeds.feedburner.com/QuoteSnack   \n",
       "2                       http://thedeadcrows.com/sopa.html   \n",
       "3       http://www.youtube.com/embed/WU_gZNVfuf0?wmode...   \n",
       "4                         http://selectivism.com/2010/02/   \n",
       "6                       http://hackedgadgets.com/2007/02/   \n",
       "...                                                   ...   \n",
       "219986  https://www.eff.org/deeplinks/2012/01/sites/al...   \n",
       "219987  https://www.eff.org/deeplinks/2012/01/sites/al...   \n",
       "219988  https://www.eff.org/deeplinks/2012/01/sites/al...   \n",
       "219989          https://www.eff.org/deeplinks/2012/01/0.8   \n",
       "219990  https://www.eff.org/deeplinks/2012/01/form.new...   \n",
       "\n",
       "       mime_type_web_server         mime_type_tika language  \\\n",
       "1                 text/html              text/html       en   \n",
       "2                 text/html  application/xhtml+xml       en   \n",
       "3                 text/html              text/html       en   \n",
       "4                 text/html  application/xhtml+xml       en   \n",
       "6                 text/html  application/xhtml+xml       en   \n",
       "...                     ...                    ...      ...   \n",
       "219986            text/html  application/xhtml+xml       en   \n",
       "219987            text/html  application/xhtml+xml       en   \n",
       "219988            text/html  application/xhtml+xml       en   \n",
       "219989            text/html  application/xhtml+xml       en   \n",
       "219990            text/html  application/xhtml+xml       en   \n",
       "\n",
       "                                                  content  \n",
       "1       Stop SOPA! If Congress passes SOPA, the Intern...  \n",
       "2       STOP SOPA! STOP SOPA! STOP SOPA! This site has...  \n",
       "3       Life in a Day Soundtrack - Angolan Women - You...  \n",
       "4       2010  February : Selectivism ABOUT TIP-OFF CON...  \n",
       "6       2007  February - Hacked Gadgets – DIY Tech Blo...  \n",
       "...                                                   ...  \n",
       "219986  Electronic Frontier Foundation | Defending you...  \n",
       "219987  Electronic Frontier Foundation | Defending you...  \n",
       "219988  Electronic Frontier Foundation | Defending you...  \n",
       "219989  Electronic Frontier Foundation | Defending you...  \n",
       "219990  Electronic Frontier Foundation | Defending you...  \n",
       "\n",
       "[135484 rows x 7 columns]"
      ]
     },
     "execution_count": 4,
     "metadata": {},
     "output_type": "execute_result"
    }
   ],
   "source": [
    "#We display our dataframe web_pages_en\n",
    "web_pages_en"
   ]
  },
  {
   "cell_type": "markdown",
   "metadata": {},
   "source": [
    "## Now, some fun with the english corpus"
   ]
  },
  {
   "cell_type": "code",
   "execution_count": 5,
   "metadata": {},
   "outputs": [
    {
     "data": {
      "text/plain": [
       "Index(['crawl_date', 'domain', 'url', 'mime_type_web_server', 'mime_type_tika',\n",
       "       'language', 'content'],\n",
       "      dtype='object')"
      ]
     },
     "execution_count": 5,
     "metadata": {},
     "output_type": "execute_result"
    }
   ],
   "source": [
    "#we display the columns so that we can choose the right one to process the topic modelling\n",
    "web_pages_en.columns"
   ]
  },
  {
   "cell_type": "code",
   "execution_count": 6,
   "metadata": {},
   "outputs": [
    {
     "data": {
      "text/plain": [
       "1         Stop SOPA! If Congress passes SOPA, the Intern...\n",
       "2         STOP SOPA! STOP SOPA! STOP SOPA! This site has...\n",
       "3         Life in a Day Soundtrack - Angolan Women - You...\n",
       "4         2010  February : Selectivism ABOUT TIP-OFF CON...\n",
       "6         2007  February - Hacked Gadgets – DIY Tech Blo...\n",
       "                                ...                        \n",
       "219986    Electronic Frontier Foundation | Defending you...\n",
       "219987    Electronic Frontier Foundation | Defending you...\n",
       "219988    Electronic Frontier Foundation | Defending you...\n",
       "219989    Electronic Frontier Foundation | Defending you...\n",
       "219990    Electronic Frontier Foundation | Defending you...\n",
       "Name: content, Length: 135484, dtype: object"
      ]
     },
     "execution_count": 6,
     "metadata": {},
     "output_type": "execute_result"
    }
   ],
   "source": [
    "# We define the column that we will choose for the topic modelling\n",
    "raw_text_col_en = \"content\"\n",
    "# We create the dataframe with the \"content\" column only\n",
    "raw_text_en = web_pages_en[raw_text_col_en]\n",
    "# We remove the NaN to be sure\n",
    "raw_text_en = raw_text_en.dropna()\n",
    "# We display the result (to be sure we did what we wanted to do)\n",
    "raw_text_en"
   ]
  },
  {
   "cell_type": "markdown",
   "metadata": {},
   "source": [
    "### Text Processing\n",
    "\n",
    "We cannot directly feed the text to the Topics Extraction Algorithms. We first need to process the text in order to get numerical vectors. We achieve this by applying either a CountVectorizer() or a TfidfVectorizer(). For more information on those technics, please refer to thid [sklearn documentation](http://scikit-learn.org/stable/tutorial/text_analytics/working_with_text_data.html).   "
   ]
  },
  {
   "cell_type": "markdown",
   "metadata": {},
   "source": [
    "As with any text mining task, we first need to remove stop words that provide no useful information about topics. *sklearn* provides a default stop words list for english, but we can alway add to it any custom stop words :"
   ]
  },
  {
   "cell_type": "code",
   "execution_count": 7,
   "metadata": {},
   "outputs": [],
   "source": [
    "# we remove the stopwords\n",
    "\n",
    "# Uncomment the next line to define custom stopwords\n",
    "#custom_stop_words = [u'did', u'good', u'right', u'said', u'does', u'way',u'edu', u'com', u'mail', u'thanks', u'post', u'address', u'university', u'email', u'soon', u'article',u'people', u'god', u'don', u'think', u'just', u'like', u'know', u'time', u'believe', u'say',u'don', u'just', u'think', u'probably', u'use', u'like', u'look', u'stuff', u'really', u'make', u'isn']\n",
    "\n",
    "stop_words_en = text.ENGLISH_STOP_WORDS #.union(custom_stop_words) - add this part if you added custom stop words"
   ]
  },
  {
   "cell_type": "markdown",
   "metadata": {},
   "source": [
    "#### CountVectorizer() on the text data <a id=\"tfidf\" /> \n",
    "\n",
    "We first initialise a CountVectorizer() object and then apply the fit_transform method to the text.\n",
    "\n",
    "**This will take ages (several hours), be very patient**"
   ]
  },
  {
   "cell_type": "code",
   "execution_count": 8,
   "metadata": {},
   "outputs": [
    {
     "name": "stdout",
     "output_type": "stream",
     "text": [
      "(135484, 209533)\n"
     ]
    }
   ],
   "source": [
    "cnt_vectorizer_en = CountVectorizer(stop_words = stop_words_en,lowercase = True,\n",
    "                    token_pattern = r'\\b[a-zA-Z]{3,}\\b', max_df = 0.85, min_df = 2)\n",
    "\n",
    "text_cnt_en = cnt_vectorizer_en.fit_transform(raw_text_en)\n",
    "\n",
    "print(text_cnt_en.shape)"
   ]
  },
  {
   "cell_type": "markdown",
   "metadata": {},
   "source": [
    "#### TfidfVectorizer() on the text data <a id=\"tfidf\" /> \n",
    "\n",
    "We first initialise a TfidfVectorizer() object and then apply the fit_transform method to the text.\n",
    "\n",
    "**Same: ages, patience**"
   ]
  },
  {
   "cell_type": "code",
   "execution_count": 9,
   "metadata": {},
   "outputs": [
    {
     "name": "stdout",
     "output_type": "stream",
     "text": [
      "(135484, 1114)\n"
     ]
    }
   ],
   "source": [
    "tfidf_vectorizer_en = TfidfVectorizer(strip_accents = 'unicode',stop_words = stop_words_en,lowercase = True,\n",
    "                                token_pattern = r'\\b[a-zA-Z]{3,}\\b', max_df = 0.75, min_df = 0.02)\n",
    "\n",
    "text_tfidf_en = tfidf_vectorizer_en.fit_transform(raw_text_en)\n",
    "\n",
    "print(text_tfidf_en.shape)"
   ]
  },
  {
   "cell_type": "markdown",
   "metadata": {},
   "source": [
    "In the following, we will apply the topics extraction to `text_tidf`."
   ]
  },
  {
   "cell_type": "markdown",
   "metadata": {
    "tags": []
   },
   "source": [
    "### Topics Extraction Models <a id=\"mod\" /> \n",
    "\n",
    "There are two very popular models for topic modelling, both available in the sklearn library: \n",
    "\n",
    "* [NMF (Non-negative Matrix Factorization)](https://en.wikipedia.org/wiki/Non-negative_matrix_factorization),\n",
    "* [LDA (Latent Dirichlet Allocation)](https://en.wikipedia.org/wiki/Latent_Dirichlet_allocation)\n",
    "\n",
    "Those two topic modeling algorithms infer topics from a collection of texts by viewing each document as a mixture of various topics. The only parameter we need to choose is the number of desired topics `n_topics`.  \n",
    "It is recommended to try different values for `n_topics` in order to find the most insightful topics. For that, we will show below different analyses (most frequent words per topics and heatmaps)."
   ]
  },
  {
   "cell_type": "code",
   "execution_count": 10,
   "metadata": {},
   "outputs": [],
   "source": [
    "n_topics = 25"
   ]
  },
  {
   "cell_type": "markdown",
   "metadata": {},
   "source": [
    "Use this line for LDA"
   ]
  },
  {
   "cell_type": "code",
   "execution_count": 11,
   "metadata": {},
   "outputs": [],
   "source": [
    "topics_model_en = LatentDirichletAllocation(n_topics, random_state=0)"
   ]
  },
  {
   "cell_type": "code",
   "execution_count": 12,
   "metadata": {},
   "outputs": [
    {
     "data": {
      "text/plain": [
       "LatentDirichletAllocation(n_components=25, random_state=0)"
      ]
     },
     "execution_count": 12,
     "metadata": {},
     "output_type": "execute_result"
    }
   ],
   "source": [
    "topics_model_en.fit(text_tfidf_en)"
   ]
  },
  {
   "cell_type": "markdown",
   "metadata": {},
   "source": [
    "Using NMF instead."
   ]
  },
  {
   "cell_type": "code",
   "execution_count": 13,
   "metadata": {},
   "outputs": [],
   "source": [
    "# topics_model_nmf_en = NMF(n_topics, random_state=0)"
   ]
  },
  {
   "cell_type": "code",
   "execution_count": 14,
   "metadata": {},
   "outputs": [],
   "source": [
    "#topics_model_nmf.fit(text_tfidf)"
   ]
  },
  {
   "cell_type": "markdown",
   "metadata": {},
   "source": [
    "#### Most Frequent Words per Topics\n",
    "An important way to assess the validity of our topic modelling is to directly look at the most frequent words in each topics."
   ]
  },
  {
   "cell_type": "code",
   "execution_count": 15,
   "metadata": {
    "scrolled": true
   },
   "outputs": [
    {
     "name": "stdout",
     "output_type": "stream",
     "text": [
      "Topic #0:\n",
      "['abby', 'whitney', 'spamming', 'abbyyy', 'spammerrrrrrrrrr', 'wtg', 'wench', 'lolol', 'wenches', 'rofl', 'heya', 'havent', 'idk', 'msn', 'ugh', 'ing', 'ninja', 'wtf', 'opened', 'decide', 'lol', 'color', 'guest', 'box', 'guess']\n",
      "\n",
      "Topic #1:\n",
      "['abby', 'whitney', 'spamming', 'wtg', 'wench', 'abbyyy', 'spammerrrrrrrrrr', 'wenches', 'lolol', 'rofl', 'heya', 'havent', 'idk', 'msn', 'ugh', 'ing', 'ninja', 'wtf', 'opened', 'decide', 'lol', 'color', 'guest', 'box', 'guess']\n",
      "\n",
      "Topic #2:\n",
      "['official', 'video', 'subscribe', 'needs', 'twitter', 'archive', 'contact', 'river', 'south', 'choose', 'problem', 'needed', 'western', 'community', 'dark', 'true', 'town', 'videos', 'don', 'advertisement', 'music', 'like', 'year', 'wait', 'hand']\n",
      "\n",
      "Topic #3:\n",
      "['best', 'details', 'thursday', 'wrong', 'today', 'january', 'got', 'december', 'price', 'view', 'class', 'free', 'src', 'http', 'thu', 'com', 'color', 'laws', 'quality', 'cool', 'enter', 'source', 'jobs', 'help', 'night']\n",
      "\n",
      "Topic #4:\n",
      "['vietnam', 'saigon', 'saigonnezumi', 'linux', 'vietnamese', 'com', 'kevmille', 'january', 'email', 'restaurants', 'statcounter', 'kevin', 'february', 'march', 'halal', 'april', 'july', 'september', 'october', 'november', 'best', 'august', 'june', 'december', 'motorbike']\n",
      "\n",
      "Topic #5:\n",
      "['advertisement', 'youtube', 'broadcast', 'php', 'error', 'line', 'content', 'home', 'com', 'video', 'say', 'love', 'song', 'original', 'world', 'opening', 'man', 'time', 'player', 'music', 'class', 'new', 'day', 'includes', 'directory']\n",
      "\n",
      "Topic #6:\n",
      "['abby', 'whitney', 'spamming', 'spammerrrrrrrrrr', 'abbyyy', 'wtg', 'wench', 'lolol', 'wenches', 'rofl', 'heya', 'havent', 'idk', 'msn', 'ugh', 'ing', 'ninja', 'wtf', 'opened', 'decide', 'lol', 'color', 'guest', 'box', 'guess']\n",
      "\n",
      "Topic #7:\n",
      "['eff', 'rights', 'deeplinks', 'digital', 'internet', 'privacy', 'search', 'speech', 'copyright', 'free', 'foia', 'coders', 'blacklist', 'defending', 'dmca', 'tracking', 'frontier', 'https', 'europe', 'broadcast', 'electronic', 'global', 'projects', 'international', 'flag']\n",
      "\n",
      "Topic #8:\n",
      "['html', 'button', 'text', 'follow', 'twitter', 'course', 'work', 'policy', 'privacy', 'status', 'makes', 'frontier', 'live', 'sent', 'coders', 'pay', 'div', 'accessibility', 'error', 'page', 'php', 'mail', 'projects', 'test', 'picture']\n",
      "\n",
      "Topic #9:\n",
      "['abby', 'whitney', 'spamming', 'spammerrrrrrrrrr', 'abbyyy', 'wtg', 'wench', 'lolol', 'wenches', 'rofl', 'heya', 'havent', 'idk', 'msn', 'ugh', 'ing', 'ninja', 'wtf', 'opened', 'decide', 'lol', 'color', 'guest', 'box', 'guess']\n",
      "\n",
      "Topic #10:\n",
      "['sopa', 'stop', 'pipa', 'server', 'protect', 'internet', 'bills', 'piracy', 'act', 'protest', 'senate', 'kill', 'censorship', 'americans', 'need', 'congress', 'dec', 'directory', 'gone', 'speech', 'learn', 'online', 'jan', 'free', 'content']\n",
      "\n",
      "Topic #11:\n",
      "['com', 'wordpress', 'information', 'buy', 'journal', 'new', 'support', 'powered', 'reserved', 'page', 'content', 'links', 'contact', 'privacy', 'computer', 'skip', 'search', 'menu', 'home', 'browser', 'rights', 'main', 'results', 'copyright', 'rss']\n",
      "\n",
      "Topic #12:\n",
      "['march', 'february', 'october', 'september', 'january', 'technology', 'december', 'november', 'education', 'august', 'july', 'april', 'june', 'read', 'students', 'learning', 'higher', 'university', 'mail', 'research', 'college', 'student', 'online', 'news', 'account']\n",
      "\n",
      "Topic #13:\n",
      "['tas', 'lao', 'bsd', 'rfid', 'incident', 'moodle', 'success', 'solutions', 'nsa', 'standards', 'retention', 'anonymity', 'drm', 'coders', 'phan', 'frontier', 'analog', 'mandatory', 'ubuntu', 'intellectual', 'asia', 'stumbleupon', 'form', 'counterfeiting', 'identi']\n",
      "\n",
      "Topic #14:\n",
      "['new', 'comments', 'like', 'news', 'posted', 'time', 'com', 'blog', 'january', 'home', 'day', 'people', 'don', 'read', 'life', 'music', 'post', 'year', 'know', 'make', 'web', 'free', 'design', 'way', 'things']\n",
      "\n",
      "Topic #15:\n",
      "['service', 'radio', 'wish', 'fight', 'org', 'visit', 'sopa', 'details', 'probably', 'act', 'site', 'suit', 'bien', 'money', 'load', 'broadcasting', 'moodle', 'understand', 'free', 'broadcast', 'bug', 'submit', 'player', 'general', 'feature']\n",
      "\n",
      "Topic #16:\n",
      "['comments', 'misc', 'archive', 'categories', 'art', 'entries', 'movie', 'wordpress', 'rss', 'org', 'music', 'meta', 'body', 'home', 'wednesday', 'tags', 'thoughts', 'log', 'head', 'older', 'select', 'stats', 'youtube', 'technology', 'friday']\n",
      "\n",
      "Topic #17:\n",
      "['tas', 'lao', 'bsd', 'rfid', 'incident', 'moodle', 'success', 'solutions', 'nsa', 'standards', 'retention', 'anonymity', 'drm', 'coders', 'phan', 'frontier', 'analog', 'mandatory', 'ubuntu', 'intellectual', 'asia', 'stumbleupon', 'form', 'counterfeiting', 'identi']\n",
      "\n",
      "Topic #18:\n",
      "['blogger', 'portugues', 'google', 'buzz', 'english', 'account', 'sign', 'create', 'blogs', 'developers', 'francais', 'deutsch', 'espanol', 'service', 'malaysia', 'signed', 'tutorial', 'designer', 'explore', 'template', 'tour', 'blog', 'free', 'minute', 'access']\n",
      "\n",
      "Topic #19:\n",
      "['views', 'sign', 'share', 'blog', 'user', 'create', 'send', 'loading', 'add', 'ago', 'remove', 'block', 'spam', 'reply', 'note', 'videos', 'list', 'div', 'added', 'flag', 'player', 'class', 'icon', 'saving', 'safety']\n",
      "\n",
      "Topic #20:\n",
      "['login', 'forums', 'sopa', 'members', 'board', 'read', 'gaming', 'view', 'forum', 'protect', 'write', 'community', 'page', 'future', 'register', 'pipa', 'congress', 'censorship', 'strike', 'online', 'welcome', 'message', 'version', 'stop', 'server']\n",
      "\n",
      "Topic #21:\n",
      "['continue', 'blackout', 'looking', 'whitney', 'isn', 'heard', 'enter', 'statcounter', 'understand', 'reading', 'houston', 'problem', 'run', 'doesn', 'general', 'future', 'listening', 'original', 'miller', 'contact', 'error', 'does', 'offers', 'review', 'media']\n",
      "\n",
      "Topic #22:\n",
      "['notes', 'ago', 'source', 'hours', 'tumblr', 'password', 'posted', 'days', 'photo', 'sign', 'ask', 'january', 'username', 'twitter', 'like', 'archive', 'jan', 'love', 'remember', 'day', 'tweet', 'theme', 'page', 'lost', 'com']\n",
      "\n",
      "Topic #23:\n",
      "['com', 'reply', 'email', 'google', 'party', 'www', 'comments', 'http', 'report', 'new', 'password', 'obama', 'blog', 'news', 'jan', 'post', 'photos', 'page', 'share', 'twitter', 'web', 'comment', 'wordpress', 'sign', 'people']\n",
      "\n",
      "Topic #24:\n",
      "['image', 'click', 'gallery', 'close', 'online', 'wimax', 'download', 'ninja', 'bong', 'dental', 'site', 'enter', 'code', 'agenda', 'media', 'dvd', 'awesome', 'pictures', 'touch', 'safety', 'trying', 'traffic', 'adding', 'drop', 'control']\n",
      "\n"
     ]
    },
    {
     "name": "stderr",
     "output_type": "stream",
     "text": [
      "/Users/frederic.clavert/.local/lib/python3.8/site-packages/sklearn/utils/deprecation.py:87: FutureWarning: Function get_feature_names is deprecated; get_feature_names is deprecated in 1.0 and will be removed in 1.2. Please use get_feature_names_out instead.\n",
      "  warnings.warn(msg, category=FutureWarning)\n"
     ]
    }
   ],
   "source": [
    "n_top_words = 25\n",
    "feature_names_en = tfidf_vectorizer_en.get_feature_names()\n",
    "\n",
    "def get_top_words_topic(topic_idx):\n",
    "    topic = topics_model_en.components_[topic_idx]\n",
    "   \n",
    "    print( [feature_names_en[i] for i in topic.argsort()[:-n_top_words - 1:-1]] )\n",
    "    \n",
    "for topic_idx, topic in enumerate(topics_model_en.components_):\n",
    "    print (\"Topic #%d:\" % topic_idx )\n",
    "    get_top_words_topic(topic_idx)\n",
    "    print (\"\")"
   ]
  },
  {
   "cell_type": "markdown",
   "metadata": {},
   "source": [
    "Pay attention to the words present, if some are very common you may want to go back to the [definition of custom stop words](#stop_words)."
   ]
  },
  {
   "cell_type": "markdown",
   "metadata": {},
   "source": [
    "\n",
    "\n",
    "\n",
    "\n",
    "#### Naming the topics\n",
    "\n",
    "Thanks to the above analysis, we can try to name each topics:"
   ]
  },
  {
   "cell_type": "code",
   "execution_count": 16,
   "metadata": {},
   "outputs": [],
   "source": [
    "dict_topic_name = {i: \"topic_\"+str(i) for i in range(n_topics)}\n",
    "#dict_topic_name = my_dict_topic_name #Define here your own name mapping and uncomment this !"
   ]
  },
  {
   "cell_type": "markdown",
   "metadata": {},
   "source": [
    "### Topics Heatmaps\n",
    "\n",
    "Another visual helper to better understand the found topics is to look at the heatmap for the document-topic and topic-words matrices. This gives us the distribution of topics over the collection of documents and the distribution of words over the topics.  \n",
    "We start with the topic-word heatmap where the darker the color is the more the word is representative of the topic:"
   ]
  },
  {
   "cell_type": "code",
   "execution_count": 17,
   "metadata": {},
   "outputs": [
    {
     "data": {
      "text/plain": [
       "<AxesSubplot:xlabel='topic'>"
      ]
     },
     "execution_count": 17,
     "metadata": {},
     "output_type": "execute_result"
    },
    {
     "data": {
      "image/png": "[encoded data removed]",
      "text/plain": [
       "<Figure size 1800x1440 with 2 Axes>"
      ]
     },
     "metadata": {
      "needs_background": "light"
     },
     "output_type": "display_data"
    }
   ],
   "source": [
    "word_model = pd.DataFrame(topics_model_en.components_.T)\n",
    "word_model.index = feature_names_en\n",
    "word_model.columns.name = 'topic'\n",
    "word_model['norm'] = (word_model).apply(lambda x: x.abs().max(),axis=1)\n",
    "word_model = word_model.sort_values(by='norm',ascending=0) # sort the matrix by the norm of row vector\n",
    "word_model.rename(columns = dict_topic_name, inplace = True) #naming topic\n",
    " \n",
    "del word_model['norm']\n",
    "\n",
    "plt.figure(figsize=(25,20))\n",
    "sns.heatmap(word_model[:25]) "
   ]
  },
  {
   "cell_type": "markdown",
   "metadata": {},
   "source": [
    "We now display the document-topic heatmap:"
   ]
  },
  {
   "cell_type": "code",
   "execution_count": 18,
   "metadata": {},
   "outputs": [
    {
     "data": {
      "text/plain": [
       "<AxesSubplot:xlabel='topic'>"
      ]
     },
     "execution_count": 18,
     "metadata": {},
     "output_type": "execute_result"
    },
    {
     "data": {
      "image/png": "[encoded data removed]",
      "text/plain": [
       "<Figure size 648x576 with 2 Axes>"
      ]
     },
     "metadata": {
      "needs_background": "light"
     },
     "output_type": "display_data"
    }
   ],
   "source": [
    "# retrieve the document-topic matrix\n",
    "document_model = pd.DataFrame(topics_model_en.transform(text_tfidf_en))\n",
    "document_model.columns.name = 'topic'\n",
    "document_model.rename(columns = dict_topic_name, inplace = True) #naming topics\n",
    "\n",
    "plt.figure(figsize=(9,8))\n",
    "sns.heatmap(document_model.sort_index()[:100]) #we limit here to the first 10 texts"
   ]
  },
  {
   "cell_type": "markdown",
   "metadata": {},
   "source": [
    "#### Topic distribution over the corpus  \n",
    "We can look at how the topics are represented in the collection of documents."
   ]
  },
  {
   "cell_type": "code",
   "execution_count": 19,
   "metadata": {},
   "outputs": [
    {
     "data": {
      "text/plain": [
       "<AxesSubplot:xlabel='topic'>"
      ]
     },
     "execution_count": 19,
     "metadata": {},
     "output_type": "execute_result"
    },
    {
     "data": {
      "image/png": "[encoded data removed]",
      "text/plain": [
       "<Figure size 432x288 with 1 Axes>"
      ]
     },
     "metadata": {
      "needs_background": "light"
     },
     "output_type": "display_data"
    }
   ],
   "source": [
    "topics_proportion = document_model.sum()/document_model.sum().sum()\n",
    "topics_proportion.plot(kind = \"bar\")"
   ]
  },
  {
   "cell_type": "markdown",
   "metadata": {},
   "source": [
    "For each topic, we can investigate the documents the most representative for the given topic:"
   ]
  },
  {
   "cell_type": "code",
   "execution_count": 20,
   "metadata": {},
   "outputs": [],
   "source": [
    "def top_documents_topics(topic_name, n_doc = 3, excerpt = True):\n",
    "    '''This returns the n_doc documents most representative of topic_name'''\n",
    "    \n",
    "    document_index = list(document_model[topic_name].sort_values(ascending = False).index)[:n_doc]\n",
    "    for order, i in enumerate(document_index):\n",
    "        print (\"Text for the {}-th most representative document for topic {}:\\n\".format(order + 1,topic_name))\n",
    "        if excerpt:\n",
    "            raw_text_en[i][:100]\n",
    "        else:\n",
    "            raw_text_en[i]\n",
    "        \"\\n******\\n\""
   ]
  },
  {
   "cell_type": "code",
   "execution_count": 21,
   "metadata": {},
   "outputs": [
    {
     "name": "stdout",
     "output_type": "stream",
     "text": [
      "Text for the 1-th most representative document for topic topic_0:\n",
      "\n",
      "Text for the 2-th most representative document for topic topic_0:\n",
      "\n"
     ]
    },
    {
     "ename": "KeyError",
     "evalue": "58119",
     "output_type": "error",
     "traceback": [
      "\u001b[0;31m---------------------------------------------------------------------------\u001b[0m",
      "\u001b[0;31mKeyError\u001b[0m                                  Traceback (most recent call last)",
      "\u001b[0;32m~/opt/anaconda3/envs/awac2/lib/python3.8/site-packages/pandas/core/indexes/base.py\u001b[0m in \u001b[0;36mget_loc\u001b[0;34m(self, key, method, tolerance)\u001b[0m\n\u001b[1;32m   3620\u001b[0m             \u001b[0;32mtry\u001b[0m\u001b[0;34m:\u001b[0m\u001b[0;34m\u001b[0m\u001b[0;34m\u001b[0m\u001b[0m\n\u001b[0;32m-> 3621\u001b[0;31m                 \u001b[0;32mreturn\u001b[0m \u001b[0mself\u001b[0m\u001b[0;34m.\u001b[0m\u001b[0m_engine\u001b[0m\u001b[0;34m.\u001b[0m\u001b[0mget_loc\u001b[0m\u001b[0;34m(\u001b[0m\u001b[0mcasted_key\u001b[0m\u001b[0;34m)\u001b[0m\u001b[0;34m\u001b[0m\u001b[0;34m\u001b[0m\u001b[0m\n\u001b[0m\u001b[1;32m   3622\u001b[0m             \u001b[0;32mexcept\u001b[0m \u001b[0mKeyError\u001b[0m \u001b[0;32mas\u001b[0m \u001b[0merr\u001b[0m\u001b[0;34m:\u001b[0m\u001b[0;34m\u001b[0m\u001b[0;34m\u001b[0m\u001b[0m\n",
      "\u001b[0;32m~/opt/anaconda3/envs/awac2/lib/python3.8/site-packages/pandas/_libs/index.pyx\u001b[0m in \u001b[0;36mpandas._libs.index.IndexEngine.get_loc\u001b[0;34m()\u001b[0m\n",
      "\u001b[0;32m~/opt/anaconda3/envs/awac2/lib/python3.8/site-packages/pandas/_libs/index.pyx\u001b[0m in \u001b[0;36mpandas._libs.index.IndexEngine.get_loc\u001b[0;34m()\u001b[0m\n",
      "\u001b[0;32mpandas/_libs/hashtable_class_helper.pxi\u001b[0m in \u001b[0;36mpandas._libs.hashtable.Int64HashTable.get_item\u001b[0;34m()\u001b[0m\n",
      "\u001b[0;32mpandas/_libs/hashtable_class_helper.pxi\u001b[0m in \u001b[0;36mpandas._libs.hashtable.Int64HashTable.get_item\u001b[0;34m()\u001b[0m\n",
      "\u001b[0;31mKeyError\u001b[0m: 58119",
      "\nThe above exception was the direct cause of the following exception:\n",
      "\u001b[0;31mKeyError\u001b[0m                                  Traceback (most recent call last)",
      "\u001b[0;32m/var/folders/90/j99p488148vcmjxgs16_mq0j42556r/T/ipykernel_87772/1614870336.py\u001b[0m in \u001b[0;36m<module>\u001b[0;34m\u001b[0m\n\u001b[0;32m----> 1\u001b[0;31m \u001b[0mtop_documents_topics\u001b[0m\u001b[0;34m(\u001b[0m\u001b[0;34m\"topic_0\"\u001b[0m\u001b[0;34m)\u001b[0m\u001b[0;34m\u001b[0m\u001b[0;34m\u001b[0m\u001b[0m\n\u001b[0m",
      "\u001b[0;32m/var/folders/90/j99p488148vcmjxgs16_mq0j42556r/T/ipykernel_87772/4139887525.py\u001b[0m in \u001b[0;36mtop_documents_topics\u001b[0;34m(topic_name, n_doc, excerpt)\u001b[0m\n\u001b[1;32m      6\u001b[0m         \u001b[0mprint\u001b[0m \u001b[0;34m(\u001b[0m\u001b[0;34m\"Text for the {}-th most representative document for topic {}:\\n\"\u001b[0m\u001b[0;34m.\u001b[0m\u001b[0mformat\u001b[0m\u001b[0;34m(\u001b[0m\u001b[0morder\u001b[0m \u001b[0;34m+\u001b[0m \u001b[0;36m1\u001b[0m\u001b[0;34m,\u001b[0m\u001b[0mtopic_name\u001b[0m\u001b[0;34m)\u001b[0m\u001b[0;34m)\u001b[0m\u001b[0;34m\u001b[0m\u001b[0;34m\u001b[0m\u001b[0m\n\u001b[1;32m      7\u001b[0m         \u001b[0;32mif\u001b[0m \u001b[0mexcerpt\u001b[0m\u001b[0;34m:\u001b[0m\u001b[0;34m\u001b[0m\u001b[0;34m\u001b[0m\u001b[0m\n\u001b[0;32m----> 8\u001b[0;31m             \u001b[0mraw_text_en\u001b[0m\u001b[0;34m[\u001b[0m\u001b[0mi\u001b[0m\u001b[0;34m]\u001b[0m\u001b[0;34m[\u001b[0m\u001b[0;34m:\u001b[0m\u001b[0;36m100\u001b[0m\u001b[0;34m]\u001b[0m\u001b[0;34m\u001b[0m\u001b[0;34m\u001b[0m\u001b[0m\n\u001b[0m\u001b[1;32m      9\u001b[0m         \u001b[0;32melse\u001b[0m\u001b[0;34m:\u001b[0m\u001b[0;34m\u001b[0m\u001b[0;34m\u001b[0m\u001b[0m\n\u001b[1;32m     10\u001b[0m             \u001b[0mraw_text_en\u001b[0m\u001b[0;34m[\u001b[0m\u001b[0mi\u001b[0m\u001b[0;34m]\u001b[0m\u001b[0;34m\u001b[0m\u001b[0;34m\u001b[0m\u001b[0m\n",
      "\u001b[0;32m~/opt/anaconda3/envs/awac2/lib/python3.8/site-packages/pandas/core/series.py\u001b[0m in \u001b[0;36m__getitem__\u001b[0;34m(self, key)\u001b[0m\n\u001b[1;32m    957\u001b[0m \u001b[0;34m\u001b[0m\u001b[0m\n\u001b[1;32m    958\u001b[0m         \u001b[0;32melif\u001b[0m \u001b[0mkey_is_scalar\u001b[0m\u001b[0;34m:\u001b[0m\u001b[0;34m\u001b[0m\u001b[0;34m\u001b[0m\u001b[0m\n\u001b[0;32m--> 959\u001b[0;31m             \u001b[0;32mreturn\u001b[0m \u001b[0mself\u001b[0m\u001b[0;34m.\u001b[0m\u001b[0m_get_value\u001b[0m\u001b[0;34m(\u001b[0m\u001b[0mkey\u001b[0m\u001b[0;34m)\u001b[0m\u001b[0;34m\u001b[0m\u001b[0;34m\u001b[0m\u001b[0m\n\u001b[0m\u001b[1;32m    960\u001b[0m \u001b[0;34m\u001b[0m\u001b[0m\n\u001b[1;32m    961\u001b[0m         \u001b[0;32mif\u001b[0m \u001b[0mis_hashable\u001b[0m\u001b[0;34m(\u001b[0m\u001b[0mkey\u001b[0m\u001b[0;34m)\u001b[0m\u001b[0;34m:\u001b[0m\u001b[0;34m\u001b[0m\u001b[0;34m\u001b[0m\u001b[0m\n",
      "\u001b[0;32m~/opt/anaconda3/envs/awac2/lib/python3.8/site-packages/pandas/core/series.py\u001b[0m in \u001b[0;36m_get_value\u001b[0;34m(self, label, takeable)\u001b[0m\n\u001b[1;32m   1068\u001b[0m \u001b[0;34m\u001b[0m\u001b[0m\n\u001b[1;32m   1069\u001b[0m         \u001b[0;31m# Similar to Index.get_value, but we do not fall back to positional\u001b[0m\u001b[0;34m\u001b[0m\u001b[0;34m\u001b[0m\u001b[0;34m\u001b[0m\u001b[0m\n\u001b[0;32m-> 1070\u001b[0;31m         \u001b[0mloc\u001b[0m \u001b[0;34m=\u001b[0m \u001b[0mself\u001b[0m\u001b[0;34m.\u001b[0m\u001b[0mindex\u001b[0m\u001b[0;34m.\u001b[0m\u001b[0mget_loc\u001b[0m\u001b[0;34m(\u001b[0m\u001b[0mlabel\u001b[0m\u001b[0;34m)\u001b[0m\u001b[0;34m\u001b[0m\u001b[0;34m\u001b[0m\u001b[0m\n\u001b[0m\u001b[1;32m   1071\u001b[0m         \u001b[0;32mreturn\u001b[0m \u001b[0mself\u001b[0m\u001b[0;34m.\u001b[0m\u001b[0mindex\u001b[0m\u001b[0;34m.\u001b[0m\u001b[0m_get_values_for_loc\u001b[0m\u001b[0;34m(\u001b[0m\u001b[0mself\u001b[0m\u001b[0;34m,\u001b[0m \u001b[0mloc\u001b[0m\u001b[0;34m,\u001b[0m \u001b[0mlabel\u001b[0m\u001b[0;34m)\u001b[0m\u001b[0;34m\u001b[0m\u001b[0;34m\u001b[0m\u001b[0m\n\u001b[1;32m   1072\u001b[0m \u001b[0;34m\u001b[0m\u001b[0m\n",
      "\u001b[0;32m~/opt/anaconda3/envs/awac2/lib/python3.8/site-packages/pandas/core/indexes/base.py\u001b[0m in \u001b[0;36mget_loc\u001b[0;34m(self, key, method, tolerance)\u001b[0m\n\u001b[1;32m   3621\u001b[0m                 \u001b[0;32mreturn\u001b[0m \u001b[0mself\u001b[0m\u001b[0;34m.\u001b[0m\u001b[0m_engine\u001b[0m\u001b[0;34m.\u001b[0m\u001b[0mget_loc\u001b[0m\u001b[0;34m(\u001b[0m\u001b[0mcasted_key\u001b[0m\u001b[0;34m)\u001b[0m\u001b[0;34m\u001b[0m\u001b[0;34m\u001b[0m\u001b[0m\n\u001b[1;32m   3622\u001b[0m             \u001b[0;32mexcept\u001b[0m \u001b[0mKeyError\u001b[0m \u001b[0;32mas\u001b[0m \u001b[0merr\u001b[0m\u001b[0;34m:\u001b[0m\u001b[0;34m\u001b[0m\u001b[0;34m\u001b[0m\u001b[0m\n\u001b[0;32m-> 3623\u001b[0;31m                 \u001b[0;32mraise\u001b[0m \u001b[0mKeyError\u001b[0m\u001b[0;34m(\u001b[0m\u001b[0mkey\u001b[0m\u001b[0;34m)\u001b[0m \u001b[0;32mfrom\u001b[0m \u001b[0merr\u001b[0m\u001b[0;34m\u001b[0m\u001b[0;34m\u001b[0m\u001b[0m\n\u001b[0m\u001b[1;32m   3624\u001b[0m             \u001b[0;32mexcept\u001b[0m \u001b[0mTypeError\u001b[0m\u001b[0;34m:\u001b[0m\u001b[0;34m\u001b[0m\u001b[0;34m\u001b[0m\u001b[0m\n\u001b[1;32m   3625\u001b[0m                 \u001b[0;31m# If we have a listlike key, _check_indexing_error will raise\u001b[0m\u001b[0;34m\u001b[0m\u001b[0;34m\u001b[0m\u001b[0;34m\u001b[0m\u001b[0m\n",
      "\u001b[0;31mKeyError\u001b[0m: 58119"
     ]
    }
   ],
   "source": [
    "top_documents_topics(\"topic_0\")"
   ]
  },
  {
   "cell_type": "markdown",
   "metadata": {},
   "source": [
    "### Topics Visualization with pyLDAvis <a id=\"viz\">\n",
    "\n",
    "Thanks to the pyLDAvis package, we can easily visualise and interpret the topics that has been fit to our corpus of text data."
   ]
  },
  {
   "cell_type": "code",
   "execution_count": 22,
   "metadata": {},
   "outputs": [
    {
     "name": "stderr",
     "output_type": "stream",
     "text": [
      "/Users/frederic.clavert/opt/anaconda3/envs/awac2/lib/python3.8/site-packages/scipy/sparse/sparsetools.py:21: DeprecationWarning: `scipy.sparse.sparsetools` is deprecated!\n",
      "scipy.sparse.sparsetools is a private module for scipy.sparse, and should not be used.\n",
      "  _deprecated()\n"
     ]
    },
    {
     "ename": "AttributeError",
     "evalue": "'TfidfVectorizer' object has no attribute 'token2id'",
     "output_type": "error",
     "traceback": [
      "\u001b[0;31m---------------------------------------------------------------------------\u001b[0m",
      "\u001b[0;31mAttributeError\u001b[0m                            Traceback (most recent call last)",
      "\u001b[0;32m/var/folders/90/j99p488148vcmjxgs16_mq0j42556r/T/ipykernel_87772/625398193.py\u001b[0m in \u001b[0;36m<module>\u001b[0;34m\u001b[0m\n\u001b[0;32m----> 1\u001b[0;31m \u001b[0mgensimvis\u001b[0m\u001b[0;34m.\u001b[0m\u001b[0mprepare\u001b[0m\u001b[0;34m(\u001b[0m\u001b[0mtopics_model_en\u001b[0m\u001b[0;34m,\u001b[0m \u001b[0mtext_tfidf_en\u001b[0m\u001b[0;34m,\u001b[0m \u001b[0mtfidf_vectorizer_en\u001b[0m\u001b[0;34m)\u001b[0m\u001b[0;34m\u001b[0m\u001b[0;34m\u001b[0m\u001b[0m\n\u001b[0m",
      "\u001b[0;32m~/.local/lib/python3.8/site-packages/pyLDAvis/gensim_models.py\u001b[0m in \u001b[0;36mprepare\u001b[0;34m(topic_model, corpus, dictionary, doc_topic_dist, **kwargs)\u001b[0m\n\u001b[1;32m    120\u001b[0m     \u001b[0mSee\u001b[0m\u001b[0;31m \u001b[0m\u001b[0;31m`\u001b[0m\u001b[0mpyLDAvis\u001b[0m\u001b[0;34m.\u001b[0m\u001b[0mprepare\u001b[0m\u001b[0;31m`\u001b[0m \u001b[0;32mfor\u001b[0m \u001b[0;34m**\u001b[0m\u001b[0mkwargs\u001b[0m\u001b[0;34m.\u001b[0m\u001b[0;34m\u001b[0m\u001b[0;34m\u001b[0m\u001b[0m\n\u001b[1;32m    121\u001b[0m     \"\"\"\n\u001b[0;32m--> 122\u001b[0;31m     \u001b[0mopts\u001b[0m \u001b[0;34m=\u001b[0m \u001b[0mfp\u001b[0m\u001b[0;34m.\u001b[0m\u001b[0mmerge\u001b[0m\u001b[0;34m(\u001b[0m\u001b[0m_extract_data\u001b[0m\u001b[0;34m(\u001b[0m\u001b[0mtopic_model\u001b[0m\u001b[0;34m,\u001b[0m \u001b[0mcorpus\u001b[0m\u001b[0;34m,\u001b[0m \u001b[0mdictionary\u001b[0m\u001b[0;34m,\u001b[0m \u001b[0mdoc_topic_dist\u001b[0m\u001b[0;34m)\u001b[0m\u001b[0;34m,\u001b[0m \u001b[0mkwargs\u001b[0m\u001b[0;34m)\u001b[0m\u001b[0;34m\u001b[0m\u001b[0;34m\u001b[0m\u001b[0m\n\u001b[0m\u001b[1;32m    123\u001b[0m     \u001b[0;32mreturn\u001b[0m \u001b[0mpyLDAvis\u001b[0m\u001b[0;34m.\u001b[0m\u001b[0mprepare\u001b[0m\u001b[0;34m(\u001b[0m\u001b[0;34m**\u001b[0m\u001b[0mopts\u001b[0m\u001b[0;34m)\u001b[0m\u001b[0;34m\u001b[0m\u001b[0;34m\u001b[0m\u001b[0m\n",
      "\u001b[0;32m~/.local/lib/python3.8/site-packages/pyLDAvis/gensim_models.py\u001b[0m in \u001b[0;36m_extract_data\u001b[0;34m(topic_model, corpus, dictionary, doc_topic_dists)\u001b[0m\n\u001b[1;32m     21\u001b[0m         \u001b[0mcorpus\u001b[0m \u001b[0;34m=\u001b[0m \u001b[0mgensim\u001b[0m\u001b[0;34m.\u001b[0m\u001b[0mmatutils\u001b[0m\u001b[0;34m.\u001b[0m\u001b[0mSparse2Corpus\u001b[0m\u001b[0;34m(\u001b[0m\u001b[0mcorpus_csc\u001b[0m\u001b[0;34m)\u001b[0m\u001b[0;34m\u001b[0m\u001b[0;34m\u001b[0m\u001b[0m\n\u001b[1;32m     22\u001b[0m \u001b[0;34m\u001b[0m\u001b[0m\n\u001b[0;32m---> 23\u001b[0;31m     \u001b[0mvocab\u001b[0m \u001b[0;34m=\u001b[0m \u001b[0mlist\u001b[0m\u001b[0;34m(\u001b[0m\u001b[0mdictionary\u001b[0m\u001b[0;34m.\u001b[0m\u001b[0mtoken2id\u001b[0m\u001b[0;34m.\u001b[0m\u001b[0mkeys\u001b[0m\u001b[0;34m(\u001b[0m\u001b[0;34m)\u001b[0m\u001b[0;34m)\u001b[0m\u001b[0;34m\u001b[0m\u001b[0;34m\u001b[0m\u001b[0m\n\u001b[0m\u001b[1;32m     24\u001b[0m     \u001b[0;31m# TODO: add the hyperparam to smooth it out? no beta in online LDA impl.. hmm..\u001b[0m\u001b[0;34m\u001b[0m\u001b[0;34m\u001b[0m\u001b[0;34m\u001b[0m\u001b[0m\n\u001b[1;32m     25\u001b[0m     \u001b[0;31m# for now, I'll just make sure we don't ever get zeros...\u001b[0m\u001b[0;34m\u001b[0m\u001b[0;34m\u001b[0m\u001b[0;34m\u001b[0m\u001b[0m\n",
      "\u001b[0;31mAttributeError\u001b[0m: 'TfidfVectorizer' object has no attribute 'token2id'"
     ]
    }
   ],
   "source": [
    "gensimvis.prepare(topics_model_en, text_tfidf_en, tfidf_vectorizer_en)"
   ]
  },
  {
   "cell_type": "markdown",
   "metadata": {},
   "source": [
    "### Topics Clustering  <a id=\"clust\">  \n",
    "\n",
    "Once we have fitted topics on the text data, we can try to understand how they relate to one another: we achieve this by doing a hierachical clustering on the topics. We propose two methods, the first is based on a correlation table between topics, the second on a contigency table."
   ]
  },
  {
   "cell_type": "code",
   "execution_count": 23,
   "metadata": {},
   "outputs": [
    {
     "data": {
      "text/plain": [
       "<seaborn.matrix.ClusterGrid at 0x7fc1d9a91e20>"
      ]
     },
     "execution_count": 23,
     "metadata": {},
     "output_type": "execute_result"
    },
    {
     "data": {
      "image/png": "[encoded data removed]",
      "text/plain": [
       "<Figure size 720x720 with 4 Axes>"
      ]
     },
     "metadata": {
      "needs_background": "light"
     },
     "output_type": "display_data"
    }
   ],
   "source": [
    "# correlation matrix between topics\n",
    "cor_matrix = np.corrcoef(document_model.iloc[:,:n_topics].values,rowvar=0)\n",
    "\n",
    "#Renaming of the index and columns\n",
    "cor_matrix = pd.DataFrame(cor_matrix)\n",
    "cor_matrix.rename(index = dict_topic_name, inplace = True)\n",
    "cor_matrix.rename(columns= dict_topic_name, inplace = True)\n",
    "\n",
    "sns.clustermap(cor_matrix, cmap=\"bone\")"
   ]
  },
  {
   "cell_type": "code",
   "execution_count": 24,
   "metadata": {},
   "outputs": [
    {
     "data": {
      "text/plain": [
       "<seaborn.matrix.ClusterGrid at 0x7fc1ebf23580>"
      ]
     },
     "execution_count": 24,
     "metadata": {},
     "output_type": "execute_result"
    },
    {
     "data": {
      "image/png": "[encoded data removed]",
      "text/plain": [
       "<Figure size 720x720 with 4 Axes>"
      ]
     },
     "metadata": {
      "needs_background": "light"
     },
     "output_type": "display_data"
    }
   ],
   "source": [
    "# contingency table on the binarized document-topic matrix\n",
    "document_bin_topic = (document_model.iloc[:,:n_topics] > 0.25).astype(int)\n",
    "contingency_matrix = np.dot(document_bin_topic.T.values, document_bin_topic.values )\n",
    "\n",
    "#Renaming of the index and columns\n",
    "contingency_matrix = pd.DataFrame(contingency_matrix)\n",
    "contingency_matrix.rename(index = dict_topic_name, inplace = True)\n",
    "contingency_matrix.rename(columns= dict_topic_name, inplace = True)\n",
    "\n",
    "sns.clustermap(contingency_matrix)"
   ]
  },
  {
   "cell_type": "markdown",
   "metadata": {},
   "source": [
    "### Further steps  <a id=\"next\">  \n",
    "\n",
    "Topics extraction is a vast subject and a notebook can only show so much. There still much thing we could do, here are some ideas:  \n"
   ]
  },
  {
   "cell_type": "markdown",
   "metadata": {},
   "source": [
    "#### Discard documents from noise topics\n",
    "The following helper function takes as argument the topics for which we wish to discard documents."
   ]
  },
  {
   "cell_type": "code",
   "execution_count": 25,
   "metadata": {},
   "outputs": [],
   "source": [
    "def remove_doc(*topic_name):\n",
    "    \n",
    "    doc_max_topic = document_model.idxmax(axis = 1)\n",
    "    \"Removing documents whose main topic are in \", topic_name\n",
    "    doc_max_topic_filtered = doc_max_topic[~doc_max_topic.isin(topic_name)]\n",
    "    return [raw_text[i] for i in doc_max_topic_filtered.index.tolist()]\n",
    "\n",
    "#E.g.: to remove documents whose main topic are topic_1 or topic_3, we would simply call remove_doc(\"topic_0\",\"topic_2\")"
   ]
  },
  {
   "cell_type": "markdown",
   "metadata": {},
   "source": [
    "For the 20newsgroup dataset, try this to remove text of topic \"Misc\""
   ]
  },
  {
   "cell_type": "code",
   "execution_count": 26,
   "metadata": {},
   "outputs": [],
   "source": [
    "#raw_text_filtered = remove_doc(\"Misc\")"
   ]
  },
  {
   "cell_type": "markdown",
   "metadata": {},
   "source": [
    "#### Scoring the topic model on new text\n",
    "Finally, we can score new text with our topic model as follows."
   ]
  },
  {
   "cell_type": "code",
   "execution_count": 27,
   "metadata": {},
   "outputs": [
    {
     "data": {
      "text/plain": [
       "<AxesSubplot:>"
      ]
     },
     "execution_count": 27,
     "metadata": {},
     "output_type": "execute_result"
    },
    {
     "data": {
      "image/png": "[encoded data removed]",
      "text/plain": [
       "<Figure size 432x288 with 2 Axes>"
      ]
     },
     "metadata": {
      "needs_background": "light"
     },
     "output_type": "display_data"
    }
   ],
   "source": [
    "new_text = raw_text_en[:3] #Change this to the new text you'd like to score !\n",
    "\n",
    "tfidf_new_text_en = tfidf_vectorizer_en.transform(new_text)\n",
    "result = pd.DataFrame(topics_model_en.transform(tfidf_new_text_en), columns = [dict_topic_name[i] for i in range(n_topics)])\n",
    "sns.heatmap(result)"
   ]
  },
  {
   "cell_type": "code",
   "execution_count": null,
   "metadata": {},
   "outputs": [],
   "source": []
  }
 ],
 "metadata": {
  "analyzedDataset": "AWAC2_webpage_FR",
  "createdOn": 1634445698186,
  "creator": "admin",
  "customFields": {},
  "kernelspec": {
   "display_name": "Python 3 (ipykernel)",
   "language": "python",
   "name": "python3"
  },
  "language_info": {
   "codemirror_mode": {
    "name": "ipython",
    "version": 3
   },
   "file_extension": ".py",
   "mimetype": "text/x-python",
   "name": "python",
   "nbconvert_exporter": "python",
   "pygments_lexer": "ipython3",
   "version": "3.8.2"
  },
  "modifiedBy": "admin",
  "tags": [],
  "toc": {
   "base_numbering": 1,
   "nav_menu": {},
   "number_sections": true,
   "sideBar": true,
   "skip_h1_title": false,
   "title_cell": "Table of Contents",
   "title_sidebar": "Contents",
   "toc_cell": false,
   "toc_position": {},
   "toc_section_display": true,
   "toc_window_display": false
  },
  "toc-autonumbering": true,
  "toc-showmarkdowntxt": false,
  "toc-showtags": false
 },
 "nbformat": 4,
 "nbformat_minor": 4
}
