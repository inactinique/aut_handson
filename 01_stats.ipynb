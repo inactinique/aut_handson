{
 "cells": [
  {
   "cell_type": "markdown",
   "metadata": {
    "id": "EN0gajhr7pKd"
   },
   "source": [
    "# Basic statistics\n",
    "\n",
    "It is based on and inpspired by the [original code from Nick Ruest and the Archive Unleashed team](https://github.com/archivesunleashed/notebooks).\n"
   ]
  },
  {
   "cell_type": "markdown",
   "metadata": {
    "id": "OctPUqrG-K2W"
   },
   "source": [
    "# Datasets\n",
    "\n",
    "In this section, we don't download the data, as it is too big. The data we are using should have been download prior and stored, in *.gz* files in a directory called 'data' which is in the same folder as this notebook."
   ]
  },
  {
   "cell_type": "markdown",
   "metadata": {
    "id": "Aw-HRGPhdKuk"
   },
   "source": [
    "Unzip the data. We unzip them here, as there seem to be a bug in macOS when you use the Apple provided tools. If it's already unzipped, it will be skipped."
   ]
  },
  {
   "cell_type": "code",
   "execution_count": 1,
   "metadata": {
    "id": "VouhvD2bEBXf"
   },
   "outputs": [
    {
     "name": "stdout",
     "output_type": "stream",
     "text": [
      "gunzip: data/audio-information.csv: unknown suffix -- ignored\n",
      "gunzip: data/domain-frequency.csv: unknown suffix -- ignored\n",
      "gunzip: data/domain-graph.csv: unknown suffix -- ignored\n",
      "gunzip: data/image-graph.csv: unknown suffix -- ignored\n",
      "gunzip: data/image-information.csv: unknown suffix -- ignored\n",
      "gunzip: data/pdf-information.csv: unknown suffix -- ignored\n",
      "gunzip: data/powerpoint-information.csv: unknown suffix -- ignored\n",
      "gunzip: data/spreadsheet-information.csv: unknown suffix -- ignored\n",
      "gunzip: data/twitter_crawls_by.csv: unknown suffix -- ignored\n",
      "gunzip: data/video-information.csv: unknown suffix -- ignored\n",
      "gunzip: data/web-graph.csv: unknown suffix -- ignored\n",
      "gunzip: data/web-pages.csv: unknown suffix -- ignored\n",
      "gunzip: data/word-document-information.csv: unknown suffix -- ignored\n"
     ]
    }
   ],
   "source": [
    "!gunzip data/*"
   ]
  },
  {
   "cell_type": "markdown",
   "metadata": {
    "id": "h3Nr_JCbsWx8"
   },
   "source": [
    "Let's check our `data` directory, and make sure they've downloaded.\n"
   ]
  },
  {
   "cell_type": "code",
   "execution_count": 2,
   "metadata": {
    "colab": {
     "base_uri": "https://localhost:8080/"
    },
    "id": "2RK74TCSuIXE",
    "outputId": "9f2cefc4-d90e-4a5f-8072-516a8b3d8daf"
   },
   "outputs": [
    {
     "name": "stdout",
     "output_type": "stream",
     "text": [
      "audio-information.csv\n",
      "domain-frequency.csv\n",
      "domain-graph.csv\n",
      "image-graph.csv\n",
      "image-information.csv\n",
      "pdf-information.csv\n",
      "powerpoint-information.csv\n",
      "spreadsheet-information.csv\n",
      "twitter_crawls_by.csv\n",
      "video-information.csv\n",
      "web-graph.csv\n",
      "web-pages.csv\n",
      "word-document-information.csv\n"
     ]
    }
   ],
   "source": [
    "!ls -1 data"
   ]
  },
  {
   "cell_type": "markdown",
   "metadata": {
    "id": "JS0T6i4xPTVx"
   },
   "source": [
    "# Environment\n",
    "\n",
    "Next, we'll setup our environment so we can load our derivatives into [pandas](https://pandas.pydata.org)."
   ]
  },
  {
   "cell_type": "code",
   "execution_count": 3,
   "metadata": {},
   "outputs": [],
   "source": [
    "import pandas as pd"
   ]
  },
  {
   "cell_type": "markdown",
   "metadata": {
    "id": "oFAFb2X3_VJC"
   },
   "source": [
    "# Loading our ARCH Datasets as DataFrames\n",
    "\n",
    "---\n",
    "\n",
    "\n",
    "\n",
    "Next, we'll setup our datasets as pandas DataFrames to work with, and show a preview of each using the Data Table Display.\n",
    "\n",
    "Each block of derivative commands create a variable. That variable is a DataFrame with all of the information from a given derivative. After the DataFrame is created, a preview of it is shown."
   ]
  },
  {
   "cell_type": "markdown",
   "metadata": {
    "id": "DIq6rwtwb64d"
   },
   "source": [
    "## Collection\n",
    "\n",
    "A basic overview of the collection.\n"
   ]
  },
  {
   "cell_type": "markdown",
   "metadata": {
    "id": "ndZjsWKzUykd"
   },
   "source": [
    "### Domain Frequency\n",
    "\n",
    "Provides the following columns:\n",
    "\n",
    "* domain\n",
    "* count"
   ]
  },
  {
   "cell_type": "code",
   "execution_count": 4,
   "metadata": {
    "colab": {
     "base_uri": "https://localhost:8080/",
     "height": 637
    },
    "id": "xUebRBMHuoRs",
    "outputId": "f345582a-63b2-4b1c-ee25-99dfd6e15b9d"
   },
   "outputs": [
    {
     "data": {
      "text/html": [
       "<div>\n",
       "<style scoped>\n",
       "    .dataframe tbody tr th:only-of-type {\n",
       "        vertical-align: middle;\n",
       "    }\n",
       "\n",
       "    .dataframe tbody tr th {\n",
       "        vertical-align: top;\n",
       "    }\n",
       "\n",
       "    .dataframe thead th {\n",
       "        text-align: right;\n",
       "    }\n",
       "</style>\n",
       "<table border=\"1\" class=\"dataframe\">\n",
       "  <thead>\n",
       "    <tr style=\"text-align: right;\">\n",
       "      <th></th>\n",
       "      <th>domain</th>\n",
       "      <th>count</th>\n",
       "    </tr>\n",
       "  </thead>\n",
       "  <tbody>\n",
       "    <tr>\n",
       "      <th>0</th>\n",
       "      <td>jcink.com</td>\n",
       "      <td>128720</td>\n",
       "    </tr>\n",
       "    <tr>\n",
       "      <th>1</th>\n",
       "      <td>eff.org</td>\n",
       "      <td>23282</td>\n",
       "    </tr>\n",
       "    <tr>\n",
       "      <th>2</th>\n",
       "      <td>tumblr.com</td>\n",
       "      <td>5769</td>\n",
       "    </tr>\n",
       "    <tr>\n",
       "      <th>3</th>\n",
       "      <td>youtube.com</td>\n",
       "      <td>4611</td>\n",
       "    </tr>\n",
       "    <tr>\n",
       "      <th>4</th>\n",
       "      <td>google.com</td>\n",
       "      <td>3028</td>\n",
       "    </tr>\n",
       "    <tr>\n",
       "      <th>...</th>\n",
       "      <td>...</td>\n",
       "      <td>...</td>\n",
       "    </tr>\n",
       "    <tr>\n",
       "      <th>5368</th>\n",
       "      <td>xunta.es</td>\n",
       "      <td>1</td>\n",
       "    </tr>\n",
       "    <tr>\n",
       "      <th>5369</th>\n",
       "      <td>virginatlanticva.co.uk</td>\n",
       "      <td>1</td>\n",
       "    </tr>\n",
       "    <tr>\n",
       "      <th>5370</th>\n",
       "      <td>hydeordie.com</td>\n",
       "      <td>1</td>\n",
       "    </tr>\n",
       "    <tr>\n",
       "      <th>5371</th>\n",
       "      <td>technosailor.com</td>\n",
       "      <td>1</td>\n",
       "    </tr>\n",
       "    <tr>\n",
       "      <th>5372</th>\n",
       "      <td>my13la.com</td>\n",
       "      <td>1</td>\n",
       "    </tr>\n",
       "  </tbody>\n",
       "</table>\n",
       "<p>5373 rows × 2 columns</p>\n",
       "</div>"
      ],
      "text/plain": [
       "                      domain   count\n",
       "0                  jcink.com  128720\n",
       "1                    eff.org   23282\n",
       "2                 tumblr.com    5769\n",
       "3                youtube.com    4611\n",
       "4                 google.com    3028\n",
       "...                      ...     ...\n",
       "5368                xunta.es       1\n",
       "5369  virginatlanticva.co.uk       1\n",
       "5370           hydeordie.com       1\n",
       "5371        technosailor.com       1\n",
       "5372              my13la.com       1\n",
       "\n",
       "[5373 rows x 2 columns]"
      ]
     },
     "execution_count": 4,
     "metadata": {},
     "output_type": "execute_result"
    }
   ],
   "source": [
    "domain_frequency = pd.read_csv(\"data/domain-frequency.csv\")\n",
    "domain_frequency"
   ]
  },
  {
   "cell_type": "markdown",
   "metadata": {
    "id": "iox32X1fdYly"
   },
   "source": [
    "## Network\n",
    "These derivative files provide network graph data for analysis, and offer an opportunity to explore the way websites link to each other.\n",
    "\n"
   ]
  },
  {
   "cell_type": "markdown",
   "metadata": {
    "id": "QtA20Erpdhna"
   },
   "source": [
    "### Domain Graph\n",
    "\n",
    "Provides the following columns:\n",
    "\n",
    "* crawl date\n",
    "* source domain\n",
    "* target domain\n",
    "* count"
   ]
  },
  {
   "cell_type": "code",
   "execution_count": 5,
   "metadata": {
    "colab": {
     "base_uri": "https://localhost:8080/",
     "height": 424
    },
    "id": "qrJHET-odk5Y",
    "outputId": "30dfdd68-8494-4ce1-d903-ccf58291ca6a"
   },
   "outputs": [
    {
     "data": {
      "text/html": [
       "<div>\n",
       "<style scoped>\n",
       "    .dataframe tbody tr th:only-of-type {\n",
       "        vertical-align: middle;\n",
       "    }\n",
       "\n",
       "    .dataframe tbody tr th {\n",
       "        vertical-align: top;\n",
       "    }\n",
       "\n",
       "    .dataframe thead th {\n",
       "        text-align: right;\n",
       "    }\n",
       "</style>\n",
       "<table border=\"1\" class=\"dataframe\">\n",
       "  <thead>\n",
       "    <tr style=\"text-align: right;\">\n",
       "      <th></th>\n",
       "      <th>crawl_date</th>\n",
       "      <th>source</th>\n",
       "      <th>target</th>\n",
       "      <th>count</th>\n",
       "    </tr>\n",
       "  </thead>\n",
       "  <tbody>\n",
       "    <tr>\n",
       "      <th>0</th>\n",
       "      <td>20120119</td>\n",
       "      <td>eff.org</td>\n",
       "      <td>eff.org</td>\n",
       "      <td>2547588</td>\n",
       "    </tr>\n",
       "    <tr>\n",
       "      <th>1</th>\n",
       "      <td>20120118</td>\n",
       "      <td>saigonnezumi.com</td>\n",
       "      <td>saigonnezumi.com</td>\n",
       "      <td>469106</td>\n",
       "    </tr>\n",
       "    <tr>\n",
       "      <th>2</th>\n",
       "      <td>20120118</td>\n",
       "      <td>jcink.com</td>\n",
       "      <td>jcink.com</td>\n",
       "      <td>386484</td>\n",
       "    </tr>\n",
       "    <tr>\n",
       "      <th>3</th>\n",
       "      <td>20120119</td>\n",
       "      <td>jcink.com</td>\n",
       "      <td>jcink.com</td>\n",
       "      <td>261545</td>\n",
       "    </tr>\n",
       "    <tr>\n",
       "      <th>4</th>\n",
       "      <td>20120118</td>\n",
       "      <td>ocregister.com</td>\n",
       "      <td>ocregister.com</td>\n",
       "      <td>243026</td>\n",
       "    </tr>\n",
       "    <tr>\n",
       "      <th>...</th>\n",
       "      <td>...</td>\n",
       "      <td>...</td>\n",
       "      <td>...</td>\n",
       "      <td>...</td>\n",
       "    </tr>\n",
       "    <tr>\n",
       "      <th>30945</th>\n",
       "      <td>20120118</td>\n",
       "      <td>aidajimenez.blogspot.com</td>\n",
       "      <td>netvibes.com</td>\n",
       "      <td>6</td>\n",
       "    </tr>\n",
       "    <tr>\n",
       "      <th>30946</th>\n",
       "      <td>20120118</td>\n",
       "      <td>fromdev.com</td>\n",
       "      <td>netvibes.com</td>\n",
       "      <td>6</td>\n",
       "    </tr>\n",
       "    <tr>\n",
       "      <th>30947</th>\n",
       "      <td>20120118</td>\n",
       "      <td>joetech.com</td>\n",
       "      <td>izea.in</td>\n",
       "      <td>6</td>\n",
       "    </tr>\n",
       "    <tr>\n",
       "      <th>30948</th>\n",
       "      <td>20120118</td>\n",
       "      <td>sonofodin.net</td>\n",
       "      <td>creativecommons.org</td>\n",
       "      <td>6</td>\n",
       "    </tr>\n",
       "    <tr>\n",
       "      <th>30949</th>\n",
       "      <td>20120118</td>\n",
       "      <td>teleguia.us</td>\n",
       "      <td>eqmag.com</td>\n",
       "      <td>6</td>\n",
       "    </tr>\n",
       "  </tbody>\n",
       "</table>\n",
       "<p>30950 rows × 4 columns</p>\n",
       "</div>"
      ],
      "text/plain": [
       "       crawl_date                    source               target    count\n",
       "0        20120119                   eff.org              eff.org  2547588\n",
       "1        20120118          saigonnezumi.com     saigonnezumi.com   469106\n",
       "2        20120118                 jcink.com            jcink.com   386484\n",
       "3        20120119                 jcink.com            jcink.com   261545\n",
       "4        20120118            ocregister.com       ocregister.com   243026\n",
       "...           ...                       ...                  ...      ...\n",
       "30945    20120118  aidajimenez.blogspot.com         netvibes.com        6\n",
       "30946    20120118               fromdev.com         netvibes.com        6\n",
       "30947    20120118               joetech.com              izea.in        6\n",
       "30948    20120118             sonofodin.net  creativecommons.org        6\n",
       "30949    20120118               teleguia.us            eqmag.com        6\n",
       "\n",
       "[30950 rows x 4 columns]"
      ]
     },
     "execution_count": 5,
     "metadata": {},
     "output_type": "execute_result"
    }
   ],
   "source": [
    "domain_graph = pd.read_csv(\"data/domain-graph.csv\")\n",
    "domain_graph"
   ]
  },
  {
   "cell_type": "markdown",
   "metadata": {
    "id": "e3MBHq88dlZ2"
   },
   "source": [
    "### Image Graph\n",
    "\n",
    "Provides the following columns:\n",
    "\n",
    "* crawl date\n",
    "* source of the image (where it was hosted)\n",
    "* the URL of the image\n",
    "* the alternative text of the image\n",
    "\n",
    "**Due to the size of the graph, this will take time.**"
   ]
  },
  {
   "cell_type": "code",
   "execution_count": 6,
   "metadata": {
    "colab": {
     "base_uri": "https://localhost:8080/",
     "height": 424
    },
    "id": "AojTsVrfdn9n",
    "outputId": "2d1d5f03-06d1-4f51-9f65-25ae40e87516"
   },
   "outputs": [
    {
     "data": {
      "text/html": [
       "<div>\n",
       "<style scoped>\n",
       "    .dataframe tbody tr th:only-of-type {\n",
       "        vertical-align: middle;\n",
       "    }\n",
       "\n",
       "    .dataframe tbody tr th {\n",
       "        vertical-align: top;\n",
       "    }\n",
       "\n",
       "    .dataframe thead th {\n",
       "        text-align: right;\n",
       "    }\n",
       "</style>\n",
       "<table border=\"1\" class=\"dataframe\">\n",
       "  <thead>\n",
       "    <tr style=\"text-align: right;\">\n",
       "      <th></th>\n",
       "      <th>crawl_date</th>\n",
       "      <th>source</th>\n",
       "      <th>url</th>\n",
       "      <th>alt_text</th>\n",
       "    </tr>\n",
       "  </thead>\n",
       "  <tbody>\n",
       "    <tr>\n",
       "      <th>0</th>\n",
       "      <td>20120118</td>\n",
       "      <td>http://feeds.feedburner.com/QuoteSnack</td>\n",
       "      <td>http://quotesnack.com/wp-content/plugins/sopa-...</td>\n",
       "      <td>Down Against SOPA</td>\n",
       "    </tr>\n",
       "    <tr>\n",
       "      <th>1</th>\n",
       "      <td>20120118</td>\n",
       "      <td>http://feeds.feedburner.com/QuoteSnack</td>\n",
       "      <td>http://quotesnack.com/wp-content/plugins/sopa-...</td>\n",
       "      <td>This Website is Down Today</td>\n",
       "    </tr>\n",
       "    <tr>\n",
       "      <th>2</th>\n",
       "      <td>20120118</td>\n",
       "      <td>http://feeds.feedburner.com/QuoteSnack</td>\n",
       "      <td>http://quotesnack.com/wp-content/plugins/sopa-...</td>\n",
       "      <td>Get the WordPress Plugin</td>\n",
       "    </tr>\n",
       "    <tr>\n",
       "      <th>3</th>\n",
       "      <td>20120118</td>\n",
       "      <td>http://feeds.feedburner.com/QuoteSnack</td>\n",
       "      <td>http://quotesnack.com/wp-content/plugins/sopa-...</td>\n",
       "      <td>NaN</td>\n",
       "    </tr>\n",
       "    <tr>\n",
       "      <th>4</th>\n",
       "      <td>20120118</td>\n",
       "      <td>http://feeds.feedburner.com/QuoteSnack</td>\n",
       "      <td>http://quotesnack.com/wp-content/plugins/sopa-...</td>\n",
       "      <td>NaN</td>\n",
       "    </tr>\n",
       "    <tr>\n",
       "      <th>...</th>\n",
       "      <td>...</td>\n",
       "      <td>...</td>\n",
       "      <td>...</td>\n",
       "      <td>...</td>\n",
       "    </tr>\n",
       "    <tr>\n",
       "      <th>1487357</th>\n",
       "      <td>20120118</td>\n",
       "      <td>https://www.eff.org/deeplinks/2012/01/0.8</td>\n",
       "      <td>https://www.eff.org/sites/all/themes/frontier/...</td>\n",
       "      <td>Creative Commons Licensed</td>\n",
       "    </tr>\n",
       "    <tr>\n",
       "      <th>1487358</th>\n",
       "      <td>20120118</td>\n",
       "      <td>https://www.eff.org/deeplinks/2012/01/form.new...</td>\n",
       "      <td>https://www.eff.org/sites/all/themes/frontier/...</td>\n",
       "      <td>Home</td>\n",
       "    </tr>\n",
       "    <tr>\n",
       "      <th>1487359</th>\n",
       "      <td>20120118</td>\n",
       "      <td>https://www.eff.org/deeplinks/2012/01/form.new...</td>\n",
       "      <td>https://www.eff.org/misc/feed.png</td>\n",
       "      <td>Subscribe to Deeplinks</td>\n",
       "    </tr>\n",
       "    <tr>\n",
       "      <th>1487360</th>\n",
       "      <td>20120118</td>\n",
       "      <td>https://www.eff.org/deeplinks/2012/01/form.new...</td>\n",
       "      <td>https://www.eff.org/misc/feed.png</td>\n",
       "      <td>NaN</td>\n",
       "    </tr>\n",
       "    <tr>\n",
       "      <th>1487361</th>\n",
       "      <td>20120118</td>\n",
       "      <td>https://www.eff.org/deeplinks/2012/01/form.new...</td>\n",
       "      <td>https://www.eff.org/sites/all/themes/frontier/...</td>\n",
       "      <td>Creative Commons Licensed</td>\n",
       "    </tr>\n",
       "  </tbody>\n",
       "</table>\n",
       "<p>1487362 rows × 4 columns</p>\n",
       "</div>"
      ],
      "text/plain": [
       "         crawl_date                                             source  \\\n",
       "0          20120118             http://feeds.feedburner.com/QuoteSnack   \n",
       "1          20120118             http://feeds.feedburner.com/QuoteSnack   \n",
       "2          20120118             http://feeds.feedburner.com/QuoteSnack   \n",
       "3          20120118             http://feeds.feedburner.com/QuoteSnack   \n",
       "4          20120118             http://feeds.feedburner.com/QuoteSnack   \n",
       "...             ...                                                ...   \n",
       "1487357    20120118          https://www.eff.org/deeplinks/2012/01/0.8   \n",
       "1487358    20120118  https://www.eff.org/deeplinks/2012/01/form.new...   \n",
       "1487359    20120118  https://www.eff.org/deeplinks/2012/01/form.new...   \n",
       "1487360    20120118  https://www.eff.org/deeplinks/2012/01/form.new...   \n",
       "1487361    20120118  https://www.eff.org/deeplinks/2012/01/form.new...   \n",
       "\n",
       "                                                       url  \\\n",
       "0        http://quotesnack.com/wp-content/plugins/sopa-...   \n",
       "1        http://quotesnack.com/wp-content/plugins/sopa-...   \n",
       "2        http://quotesnack.com/wp-content/plugins/sopa-...   \n",
       "3        http://quotesnack.com/wp-content/plugins/sopa-...   \n",
       "4        http://quotesnack.com/wp-content/plugins/sopa-...   \n",
       "...                                                    ...   \n",
       "1487357  https://www.eff.org/sites/all/themes/frontier/...   \n",
       "1487358  https://www.eff.org/sites/all/themes/frontier/...   \n",
       "1487359                  https://www.eff.org/misc/feed.png   \n",
       "1487360                  https://www.eff.org/misc/feed.png   \n",
       "1487361  https://www.eff.org/sites/all/themes/frontier/...   \n",
       "\n",
       "                           alt_text  \n",
       "0                 Down Against SOPA  \n",
       "1        This Website is Down Today  \n",
       "2          Get the WordPress Plugin  \n",
       "3                               NaN  \n",
       "4                               NaN  \n",
       "...                             ...  \n",
       "1487357   Creative Commons Licensed  \n",
       "1487358                        Home  \n",
       "1487359      Subscribe to Deeplinks  \n",
       "1487360                         NaN  \n",
       "1487361   Creative Commons Licensed  \n",
       "\n",
       "[1487362 rows x 4 columns]"
      ]
     },
     "execution_count": 6,
     "metadata": {},
     "output_type": "execute_result"
    }
   ],
   "source": [
    "image_graph = pd.read_csv(\"data/image-graph.csv\")\n",
    "image_graph"
   ]
  },
  {
   "cell_type": "markdown",
   "metadata": {
    "id": "ijcDwS7tdpoG"
   },
   "source": [
    "### Web Graph\n",
    "\n",
    "Provides the following columns:\n",
    "\n",
    "* crawl date\n",
    "* source\n",
    "* target\n",
    "* anchor text\n",
    "\n",
    "Note that this contains all links and is not aggregated into domains.\n",
    "\n",
    "**Due to the size of the graph, this will take time.**"
   ]
  },
  {
   "cell_type": "code",
   "execution_count": 7,
   "metadata": {
    "colab": {
     "base_uri": "https://localhost:8080/",
     "height": 424
    },
    "id": "9lm4jpumdpwU",
    "outputId": "e22b87fb-8a3a-4055-a3d8-84bd1928ea66"
   },
   "outputs": [
    {
     "data": {
      "text/html": [
       "<div>\n",
       "<style scoped>\n",
       "    .dataframe tbody tr th:only-of-type {\n",
       "        vertical-align: middle;\n",
       "    }\n",
       "\n",
       "    .dataframe tbody tr th {\n",
       "        vertical-align: top;\n",
       "    }\n",
       "\n",
       "    .dataframe thead th {\n",
       "        text-align: right;\n",
       "    }\n",
       "</style>\n",
       "<table border=\"1\" class=\"dataframe\">\n",
       "  <thead>\n",
       "    <tr style=\"text-align: right;\">\n",
       "      <th></th>\n",
       "      <th>crawl_date</th>\n",
       "      <th>source</th>\n",
       "      <th>target</th>\n",
       "      <th>anchor_text</th>\n",
       "    </tr>\n",
       "  </thead>\n",
       "  <tbody>\n",
       "    <tr>\n",
       "      <th>0</th>\n",
       "      <td>20120118</td>\n",
       "      <td>http://feeds.feedburner.com/QuoteSnack</td>\n",
       "      <td>http://downagainstsopa.com</td>\n",
       "      <td>NaN</td>\n",
       "    </tr>\n",
       "    <tr>\n",
       "      <th>1</th>\n",
       "      <td>20120118</td>\n",
       "      <td>http://feeds.feedburner.com/QuoteSnack</td>\n",
       "      <td>http://wordpress.org/extend/plugins/sopa-black...</td>\n",
       "      <td>NaN</td>\n",
       "    </tr>\n",
       "    <tr>\n",
       "      <th>2</th>\n",
       "      <td>20120118</td>\n",
       "      <td>http://feeds.feedburner.com/QuoteSnack</td>\n",
       "      <td>http://downagainstsopa.com/takeaction.php</td>\n",
       "      <td>Take Action Now</td>\n",
       "    </tr>\n",
       "    <tr>\n",
       "      <th>3</th>\n",
       "      <td>20120118</td>\n",
       "      <td>http://feeds.feedburner.com/QuoteSnack</td>\n",
       "      <td>http://downagainstsopa.com/takeaction.php</td>\n",
       "      <td>Join the fight against it!</td>\n",
       "    </tr>\n",
       "    <tr>\n",
       "      <th>4</th>\n",
       "      <td>20120118</td>\n",
       "      <td>http://feeds.feedburner.com/QuoteSnack</td>\n",
       "      <td>http://feeds.feedburner.com/feed/</td>\n",
       "      <td>Continue to site.</td>\n",
       "    </tr>\n",
       "    <tr>\n",
       "      <th>...</th>\n",
       "      <td>...</td>\n",
       "      <td>...</td>\n",
       "      <td>...</td>\n",
       "      <td>...</td>\n",
       "    </tr>\n",
       "    <tr>\n",
       "      <th>9560146</th>\n",
       "      <td>20120118</td>\n",
       "      <td>https://www.eff.org/deeplinks/2012/01/form.new...</td>\n",
       "      <td>https://www.eff.org/pages/thanks</td>\n",
       "      <td>Thanks</td>\n",
       "    </tr>\n",
       "    <tr>\n",
       "      <th>9560147</th>\n",
       "      <td>20120118</td>\n",
       "      <td>https://www.eff.org/deeplinks/2012/01/form.new...</td>\n",
       "      <td>https://www.eff.org/rss</td>\n",
       "      <td>RSS Feeds</td>\n",
       "    </tr>\n",
       "    <tr>\n",
       "      <th>9560148</th>\n",
       "      <td>20120118</td>\n",
       "      <td>https://www.eff.org/deeplinks/2012/01/form.new...</td>\n",
       "      <td>https://www.eff.org/copyright</td>\n",
       "      <td>Copyright Policy</td>\n",
       "    </tr>\n",
       "    <tr>\n",
       "      <th>9560149</th>\n",
       "      <td>20120118</td>\n",
       "      <td>https://www.eff.org/deeplinks/2012/01/form.new...</td>\n",
       "      <td>https://www.eff.org/policy</td>\n",
       "      <td>Privacy Policy</td>\n",
       "    </tr>\n",
       "    <tr>\n",
       "      <th>9560150</th>\n",
       "      <td>20120118</td>\n",
       "      <td>https://www.eff.org/deeplinks/2012/01/form.new...</td>\n",
       "      <td>https://www.eff.org/about/contact</td>\n",
       "      <td>Contact EFF</td>\n",
       "    </tr>\n",
       "  </tbody>\n",
       "</table>\n",
       "<p>9560151 rows × 4 columns</p>\n",
       "</div>"
      ],
      "text/plain": [
       "         crawl_date                                             source  \\\n",
       "0          20120118             http://feeds.feedburner.com/QuoteSnack   \n",
       "1          20120118             http://feeds.feedburner.com/QuoteSnack   \n",
       "2          20120118             http://feeds.feedburner.com/QuoteSnack   \n",
       "3          20120118             http://feeds.feedburner.com/QuoteSnack   \n",
       "4          20120118             http://feeds.feedburner.com/QuoteSnack   \n",
       "...             ...                                                ...   \n",
       "9560146    20120118  https://www.eff.org/deeplinks/2012/01/form.new...   \n",
       "9560147    20120118  https://www.eff.org/deeplinks/2012/01/form.new...   \n",
       "9560148    20120118  https://www.eff.org/deeplinks/2012/01/form.new...   \n",
       "9560149    20120118  https://www.eff.org/deeplinks/2012/01/form.new...   \n",
       "9560150    20120118  https://www.eff.org/deeplinks/2012/01/form.new...   \n",
       "\n",
       "                                                    target  \\\n",
       "0                               http://downagainstsopa.com   \n",
       "1        http://wordpress.org/extend/plugins/sopa-black...   \n",
       "2                http://downagainstsopa.com/takeaction.php   \n",
       "3                http://downagainstsopa.com/takeaction.php   \n",
       "4                        http://feeds.feedburner.com/feed/   \n",
       "...                                                    ...   \n",
       "9560146                   https://www.eff.org/pages/thanks   \n",
       "9560147                            https://www.eff.org/rss   \n",
       "9560148                      https://www.eff.org/copyright   \n",
       "9560149                         https://www.eff.org/policy   \n",
       "9560150                  https://www.eff.org/about/contact   \n",
       "\n",
       "                        anchor_text  \n",
       "0                               NaN  \n",
       "1                               NaN  \n",
       "2                   Take Action Now  \n",
       "3        Join the fight against it!  \n",
       "4                 Continue to site.  \n",
       "...                             ...  \n",
       "9560146                      Thanks  \n",
       "9560147                   RSS Feeds  \n",
       "9560148            Copyright Policy  \n",
       "9560149              Privacy Policy  \n",
       "9560150                 Contact EFF  \n",
       "\n",
       "[9560151 rows x 4 columns]"
      ]
     },
     "execution_count": 7,
     "metadata": {},
     "output_type": "execute_result"
    }
   ],
   "source": [
    "web_graph = pd.read_csv(\"data/web-graph.csv\")\n",
    "web_graph"
   ]
  },
  {
   "cell_type": "markdown",
   "metadata": {
    "id": "TxZdqW7LbF8R"
   },
   "source": [
    "## File Formats\n",
    "\n",
    "These derivatives contain information on certain types of binary files found within a web archive."
   ]
  },
  {
   "cell_type": "markdown",
   "metadata": {
    "id": "KtqbBhf-bHpR"
   },
   "source": [
    "### Audio\n",
    "\n",
    "Provides the following columns:\n",
    "\n",
    "* crawl date\n",
    "* URL of the audio file\n",
    "* filename\n",
    "* audio extension\n",
    "* MIME type as provided by the web server\n",
    "* MIME type as detected by Apache TIKA\n",
    "* audio MD5 hash\n",
    "* audio SHA1 hash\n",
    "\n",
    "\n",
    "\n"
   ]
  },
  {
   "cell_type": "code",
   "execution_count": 8,
   "metadata": {
    "colab": {
     "base_uri": "https://localhost:8080/",
     "height": 637
    },
    "id": "oNk44pMZcSip",
    "outputId": "4934dd07-cebe-46ad-ccce-05fc9900ed0a"
   },
   "outputs": [
    {
     "data": {
      "text/html": [
       "<div>\n",
       "<style scoped>\n",
       "    .dataframe tbody tr th:only-of-type {\n",
       "        vertical-align: middle;\n",
       "    }\n",
       "\n",
       "    .dataframe tbody tr th {\n",
       "        vertical-align: top;\n",
       "    }\n",
       "\n",
       "    .dataframe thead th {\n",
       "        text-align: right;\n",
       "    }\n",
       "</style>\n",
       "<table border=\"1\" class=\"dataframe\">\n",
       "  <thead>\n",
       "    <tr style=\"text-align: right;\">\n",
       "      <th></th>\n",
       "      <th>crawl_date</th>\n",
       "      <th>url</th>\n",
       "      <th>filename</th>\n",
       "      <th>extension</th>\n",
       "      <th>mime_type_web_server</th>\n",
       "      <th>mime_type_tika</th>\n",
       "      <th>md5</th>\n",
       "      <th>sha1</th>\n",
       "    </tr>\n",
       "  </thead>\n",
       "  <tbody>\n",
       "    <tr>\n",
       "      <th>0</th>\n",
       "      <td>20120118</td>\n",
       "      <td>http://www.wgmd.com/wp-content/uploads/2010/09...</td>\n",
       "      <td>christine-odonnell.mp3</td>\n",
       "      <td>mp3</td>\n",
       "      <td>audio/mpeg</td>\n",
       "      <td>audio/mpeg</td>\n",
       "      <td>4edd248b003923bff85c5e80f1cb95d8</td>\n",
       "      <td>2a51e5b591b882af1fe401ab8a2dc37ace7a07dd</td>\n",
       "    </tr>\n",
       "    <tr>\n",
       "      <th>1</th>\n",
       "      <td>20120118</td>\n",
       "      <td>http://cdn05.hulkshare.com/dev5/0/002/287/0002...</td>\n",
       "      <td>Drake_-_Doing_It_Wrong_Instrumental.mp3</td>\n",
       "      <td>mp3</td>\n",
       "      <td>audio/mpeg</td>\n",
       "      <td>audio/mpeg</td>\n",
       "      <td>a91cae37f8688050dc6ccd375e4db4ac</td>\n",
       "      <td>1f5d149339c96436090dbc6991e8e9acd71d9eed</td>\n",
       "    </tr>\n",
       "    <tr>\n",
       "      <th>2</th>\n",
       "      <td>20120118</td>\n",
       "      <td>http://cdn03.hulkshare.com/dev3/0/002/296/0002...</td>\n",
       "      <td>Doing%20It%20Wrong%20Cover.mp3</td>\n",
       "      <td>mp3</td>\n",
       "      <td>audio/mpeg</td>\n",
       "      <td>audio/mpeg</td>\n",
       "      <td>519604f239a53c1f9c33aaa5353cbd7e</td>\n",
       "      <td>ed6821fffa647130609a4dcad617298a4bc9c7ab</td>\n",
       "    </tr>\n",
       "    <tr>\n",
       "      <th>3</th>\n",
       "      <td>20120118</td>\n",
       "      <td>http://t-robots.org/podcasts/test.mp3</td>\n",
       "      <td>test.mp3</td>\n",
       "      <td>mp3</td>\n",
       "      <td>audio/mpeg</td>\n",
       "      <td>audio/mpeg</td>\n",
       "      <td>5e622b0845b4e4dccbaba27de8a09960</td>\n",
       "      <td>69c8465daf834e8037324f2305c136ee3c1d283e</td>\n",
       "    </tr>\n",
       "    <tr>\n",
       "      <th>4</th>\n",
       "      <td>20120118</td>\n",
       "      <td>http://dawnxianamoon.com/music/Dawn_Xiana_Moon...</td>\n",
       "      <td>Dawn_Xiana_Moon-Strong.mp3</td>\n",
       "      <td>mp3</td>\n",
       "      <td>audio/mpeg</td>\n",
       "      <td>audio/mpeg</td>\n",
       "      <td>579d22b56b647195b2c7a08c468bee49</td>\n",
       "      <td>d191c358a629ab675a5e5d6924e275a7e813d68b</td>\n",
       "    </tr>\n",
       "    <tr>\n",
       "      <th>...</th>\n",
       "      <td>...</td>\n",
       "      <td>...</td>\n",
       "      <td>...</td>\n",
       "      <td>...</td>\n",
       "      <td>...</td>\n",
       "      <td>...</td>\n",
       "      <td>...</td>\n",
       "      <td>...</td>\n",
       "    </tr>\n",
       "    <tr>\n",
       "      <th>236</th>\n",
       "      <td>20120118</td>\n",
       "      <td>http://cdn06.hulkshare.com/dev6/0/002/287/0002...</td>\n",
       "      <td>Drake_-_Doing_It_Wrong_Instrumental.mp3</td>\n",
       "      <td>mp3</td>\n",
       "      <td>audio/mpeg</td>\n",
       "      <td>audio/mpeg</td>\n",
       "      <td>a91cae37f8688050dc6ccd375e4db4ac</td>\n",
       "      <td>1f5d149339c96436090dbc6991e8e9acd71d9eed</td>\n",
       "    </tr>\n",
       "    <tr>\n",
       "      <th>237</th>\n",
       "      <td>20120118</td>\n",
       "      <td>http://cdn02.hulkshare.com/dev2/0/003/203/0003...</td>\n",
       "      <td>Like%20This%20(Prod.%20by%20Focus%EF%BF%BD%EF%...</td>\n",
       "      <td>mp3</td>\n",
       "      <td>audio/mpeg</td>\n",
       "      <td>audio/mpeg</td>\n",
       "      <td>718b97204b4f0102eec2e4a21b84f780</td>\n",
       "      <td>c37f75407c69ff84bcb878263e72c20816a9b86b</td>\n",
       "    </tr>\n",
       "    <tr>\n",
       "      <th>238</th>\n",
       "      <td>20120118</td>\n",
       "      <td>http://cdn06.hulkshare.com/dev6/0/003/208/0003...</td>\n",
       "      <td>Hate%20Me.mp3</td>\n",
       "      <td>mp3</td>\n",
       "      <td>audio/mpeg</td>\n",
       "      <td>audio/mpeg</td>\n",
       "      <td>68ea4cde7ecc455c74fb8306dc5751b4</td>\n",
       "      <td>13d4a435067aba9a2f984e74ce4c892ea1f83bbf</td>\n",
       "    </tr>\n",
       "    <tr>\n",
       "      <th>239</th>\n",
       "      <td>20120118</td>\n",
       "      <td>http://podcast.raggakings.net/vibespromotion/2...</td>\n",
       "      <td>2011_12_16_OHRWO_lgs_Phokus_at_Vibespromotion.mp3</td>\n",
       "      <td>mp3</td>\n",
       "      <td>audio/mpeg</td>\n",
       "      <td>audio/mpeg</td>\n",
       "      <td>24f22f6340e2bcaa1c9419c2e74e5361</td>\n",
       "      <td>824d6684b004b35c46a9c89d6b32f8f515d0246e</td>\n",
       "    </tr>\n",
       "    <tr>\n",
       "      <th>240</th>\n",
       "      <td>20120118</td>\n",
       "      <td>http://tropicalbass.com/mixes/Marflix-RiddimsT...</td>\n",
       "      <td>Marflix-RiddimsTropicale20.mp3</td>\n",
       "      <td>mp3</td>\n",
       "      <td>audio/mpeg</td>\n",
       "      <td>audio/mpeg</td>\n",
       "      <td>7ae40c0b01bff1e61c18161467aa3138</td>\n",
       "      <td>895da28637887449f5febb8efe3690ec6c614fea</td>\n",
       "    </tr>\n",
       "  </tbody>\n",
       "</table>\n",
       "<p>241 rows × 8 columns</p>\n",
       "</div>"
      ],
      "text/plain": [
       "     crawl_date                                                url  \\\n",
       "0      20120118  http://www.wgmd.com/wp-content/uploads/2010/09...   \n",
       "1      20120118  http://cdn05.hulkshare.com/dev5/0/002/287/0002...   \n",
       "2      20120118  http://cdn03.hulkshare.com/dev3/0/002/296/0002...   \n",
       "3      20120118              http://t-robots.org/podcasts/test.mp3   \n",
       "4      20120118  http://dawnxianamoon.com/music/Dawn_Xiana_Moon...   \n",
       "..          ...                                                ...   \n",
       "236    20120118  http://cdn06.hulkshare.com/dev6/0/002/287/0002...   \n",
       "237    20120118  http://cdn02.hulkshare.com/dev2/0/003/203/0003...   \n",
       "238    20120118  http://cdn06.hulkshare.com/dev6/0/003/208/0003...   \n",
       "239    20120118  http://podcast.raggakings.net/vibespromotion/2...   \n",
       "240    20120118  http://tropicalbass.com/mixes/Marflix-RiddimsT...   \n",
       "\n",
       "                                              filename extension  \\\n",
       "0                               christine-odonnell.mp3       mp3   \n",
       "1              Drake_-_Doing_It_Wrong_Instrumental.mp3       mp3   \n",
       "2                       Doing%20It%20Wrong%20Cover.mp3       mp3   \n",
       "3                                             test.mp3       mp3   \n",
       "4                           Dawn_Xiana_Moon-Strong.mp3       mp3   \n",
       "..                                                 ...       ...   \n",
       "236            Drake_-_Doing_It_Wrong_Instrumental.mp3       mp3   \n",
       "237  Like%20This%20(Prod.%20by%20Focus%EF%BF%BD%EF%...       mp3   \n",
       "238                                      Hate%20Me.mp3       mp3   \n",
       "239  2011_12_16_OHRWO_lgs_Phokus_at_Vibespromotion.mp3       mp3   \n",
       "240                     Marflix-RiddimsTropicale20.mp3       mp3   \n",
       "\n",
       "    mime_type_web_server mime_type_tika                               md5  \\\n",
       "0             audio/mpeg     audio/mpeg  4edd248b003923bff85c5e80f1cb95d8   \n",
       "1             audio/mpeg     audio/mpeg  a91cae37f8688050dc6ccd375e4db4ac   \n",
       "2             audio/mpeg     audio/mpeg  519604f239a53c1f9c33aaa5353cbd7e   \n",
       "3             audio/mpeg     audio/mpeg  5e622b0845b4e4dccbaba27de8a09960   \n",
       "4             audio/mpeg     audio/mpeg  579d22b56b647195b2c7a08c468bee49   \n",
       "..                   ...            ...                               ...   \n",
       "236           audio/mpeg     audio/mpeg  a91cae37f8688050dc6ccd375e4db4ac   \n",
       "237           audio/mpeg     audio/mpeg  718b97204b4f0102eec2e4a21b84f780   \n",
       "238           audio/mpeg     audio/mpeg  68ea4cde7ecc455c74fb8306dc5751b4   \n",
       "239           audio/mpeg     audio/mpeg  24f22f6340e2bcaa1c9419c2e74e5361   \n",
       "240           audio/mpeg     audio/mpeg  7ae40c0b01bff1e61c18161467aa3138   \n",
       "\n",
       "                                         sha1  \n",
       "0    2a51e5b591b882af1fe401ab8a2dc37ace7a07dd  \n",
       "1    1f5d149339c96436090dbc6991e8e9acd71d9eed  \n",
       "2    ed6821fffa647130609a4dcad617298a4bc9c7ab  \n",
       "3    69c8465daf834e8037324f2305c136ee3c1d283e  \n",
       "4    d191c358a629ab675a5e5d6924e275a7e813d68b  \n",
       "..                                        ...  \n",
       "236  1f5d149339c96436090dbc6991e8e9acd71d9eed  \n",
       "237  c37f75407c69ff84bcb878263e72c20816a9b86b  \n",
       "238  13d4a435067aba9a2f984e74ce4c892ea1f83bbf  \n",
       "239  824d6684b004b35c46a9c89d6b32f8f515d0246e  \n",
       "240  895da28637887449f5febb8efe3690ec6c614fea  \n",
       "\n",
       "[241 rows x 8 columns]"
      ]
     },
     "execution_count": 8,
     "metadata": {},
     "output_type": "execute_result"
    }
   ],
   "source": [
    "audio = pd.read_csv(\"data/audio-information.csv\")\n",
    "audio"
   ]
  },
  {
   "cell_type": "markdown",
   "metadata": {
    "id": "SnEntLU0U2ox"
   },
   "source": [
    "### Images\n",
    "\n",
    "Provides the following columns:\n",
    "\n",
    "* crawl date\n",
    "* URL of the image\n",
    "* filename\n",
    "* image extension\n",
    "* MIME type as provided by the web server\n",
    "* MIME type as detected by Apache TIKA\n",
    "* image width\n",
    "* image height\n",
    "* image MD5 hash\n",
    "* image SHA1 hash"
   ]
  },
  {
   "cell_type": "code",
   "execution_count": 9,
   "metadata": {
    "colab": {
     "base_uri": "https://localhost:8080/",
     "height": 424
    },
    "id": "GhE_Vhv8Awkx",
    "outputId": "7be5489a-c718-4845-fc70-b6cf42b66c04"
   },
   "outputs": [
    {
     "data": {
      "text/html": [
       "<div>\n",
       "<style scoped>\n",
       "    .dataframe tbody tr th:only-of-type {\n",
       "        vertical-align: middle;\n",
       "    }\n",
       "\n",
       "    .dataframe tbody tr th {\n",
       "        vertical-align: top;\n",
       "    }\n",
       "\n",
       "    .dataframe thead th {\n",
       "        text-align: right;\n",
       "    }\n",
       "</style>\n",
       "<table border=\"1\" class=\"dataframe\">\n",
       "  <thead>\n",
       "    <tr style=\"text-align: right;\">\n",
       "      <th></th>\n",
       "      <th>crawl_date</th>\n",
       "      <th>url</th>\n",
       "      <th>filename</th>\n",
       "      <th>extension</th>\n",
       "      <th>mime_type_web_server</th>\n",
       "      <th>mime_type_tika</th>\n",
       "      <th>width</th>\n",
       "      <th>height</th>\n",
       "      <th>md5</th>\n",
       "      <th>sha1</th>\n",
       "    </tr>\n",
       "  </thead>\n",
       "  <tbody>\n",
       "    <tr>\n",
       "      <th>0</th>\n",
       "      <td>20120118</td>\n",
       "      <td>http://d2h4w2gkaq37lq.cloudfront.net/9dfcc642-...</td>\n",
       "      <td>small_thumbnail.jpg</td>\n",
       "      <td>jpg</td>\n",
       "      <td>image/jpeg</td>\n",
       "      <td>image/jpeg</td>\n",
       "      <td>160</td>\n",
       "      <td>89</td>\n",
       "      <td>750b0de97f03437655ee73b38a1c6027</td>\n",
       "      <td>accc7fbce1e3b98538f06cded96c0b626e28e5e8</td>\n",
       "    </tr>\n",
       "    <tr>\n",
       "      <th>1</th>\n",
       "      <td>20120118</td>\n",
       "      <td>http://thisisacyd.com/shop/image/data/team/01.jpg</td>\n",
       "      <td>01.jpg</td>\n",
       "      <td>jpg</td>\n",
       "      <td>image/jpeg</td>\n",
       "      <td>image/jpeg</td>\n",
       "      <td>292</td>\n",
       "      <td>219</td>\n",
       "      <td>ae3507a6a7c44d0f3a99f6dd719ab73e</td>\n",
       "      <td>f155ba5a57b0d008ba628af464066ed70ec32251</td>\n",
       "    </tr>\n",
       "    <tr>\n",
       "      <th>2</th>\n",
       "      <td>20120118</td>\n",
       "      <td>http://lh5.googleusercontent.com/-TBQ7GfgMawQ/...</td>\n",
       "      <td>photo.jpg</td>\n",
       "      <td>jpg</td>\n",
       "      <td>image/jpeg</td>\n",
       "      <td>image/jpeg</td>\n",
       "      <td>512</td>\n",
       "      <td>512</td>\n",
       "      <td>340e6e52607c325343af8a940624f6ae</td>\n",
       "      <td>fe0a9bf7c4f3d56d150d589958e8c4e16592025f</td>\n",
       "    </tr>\n",
       "    <tr>\n",
       "      <th>3</th>\n",
       "      <td>20120118</td>\n",
       "      <td>http://30.media.tumblr.com/tumblr_luzlt9v1wy1q...</td>\n",
       "      <td>tumblr_luzlt9v1wy1qh9n5lo1_500.jpg</td>\n",
       "      <td>jpg</td>\n",
       "      <td>image/jpeg</td>\n",
       "      <td>image/jpeg</td>\n",
       "      <td>470</td>\n",
       "      <td>700</td>\n",
       "      <td>339c5e1391cddb2cd5c2db17b8f6966b</td>\n",
       "      <td>4557f320b2159b402834ce3e07ea3bb1f8d9f1b8</td>\n",
       "    </tr>\n",
       "    <tr>\n",
       "      <th>4</th>\n",
       "      <td>20120118</td>\n",
       "      <td>http://3.bp.blogspot.com/-dO83yTRE5JM/TvUTREas...</td>\n",
       "      <td>393px-Taj_Mahal_art.jpg</td>\n",
       "      <td>jpg</td>\n",
       "      <td>image/jpeg</td>\n",
       "      <td>image/jpeg</td>\n",
       "      <td>393</td>\n",
       "      <td>600</td>\n",
       "      <td>c46d58fbd1589ec7342edc3cc05fc9f0</td>\n",
       "      <td>e621a7d61bd28de8cb3af5888fd9647a23c87577</td>\n",
       "    </tr>\n",
       "    <tr>\n",
       "      <th>...</th>\n",
       "      <td>...</td>\n",
       "      <td>...</td>\n",
       "      <td>...</td>\n",
       "      <td>...</td>\n",
       "      <td>...</td>\n",
       "      <td>...</td>\n",
       "      <td>...</td>\n",
       "      <td>...</td>\n",
       "      <td>...</td>\n",
       "      <td>...</td>\n",
       "    </tr>\n",
       "    <tr>\n",
       "      <th>130397</th>\n",
       "      <td>20120118</td>\n",
       "      <td>http://www.archive.org/services/get-item-image...</td>\n",
       "      <td>get-item-image.php</td>\n",
       "      <td>jpg</td>\n",
       "      <td>image/jpeg</td>\n",
       "      <td>image/jpeg</td>\n",
       "      <td>160</td>\n",
       "      <td>110</td>\n",
       "      <td>2444765db1d6aed0e4a4c011646b7734</td>\n",
       "      <td>6776d5ea7f73f1636ed27f3d1eb5b4d914f2bd27</td>\n",
       "    </tr>\n",
       "    <tr>\n",
       "      <th>130398</th>\n",
       "      <td>20120118</td>\n",
       "      <td>http://www.archive.org/services/get-item-image...</td>\n",
       "      <td>get-item-image.php</td>\n",
       "      <td>jpg</td>\n",
       "      <td>image/jpeg</td>\n",
       "      <td>image/jpeg</td>\n",
       "      <td>80</td>\n",
       "      <td>80</td>\n",
       "      <td>a022497ab3cfa2fff4610502d1e434a9</td>\n",
       "      <td>3a915e3b5dca3b88f8014614cc1a1b61fe80ee25</td>\n",
       "    </tr>\n",
       "    <tr>\n",
       "      <th>130399</th>\n",
       "      <td>20120118</td>\n",
       "      <td>http://www.archive.org/services/get-item-image...</td>\n",
       "      <td>get-item-image.php</td>\n",
       "      <td>gif</td>\n",
       "      <td>image/gif</td>\n",
       "      <td>image/gif</td>\n",
       "      <td>177</td>\n",
       "      <td>70</td>\n",
       "      <td>7f47244012d04d187b65665ac0be18e4</td>\n",
       "      <td>964ae2fb6257fccecb952b9e5d88004c744c252c</td>\n",
       "    </tr>\n",
       "    <tr>\n",
       "      <th>130400</th>\n",
       "      <td>20120118</td>\n",
       "      <td>http://www.archive.org/images/star.png</td>\n",
       "      <td>star.png</td>\n",
       "      <td>png</td>\n",
       "      <td>image/png</td>\n",
       "      <td>image/png</td>\n",
       "      <td>16</td>\n",
       "      <td>16</td>\n",
       "      <td>44a64b040eaa613f25a66fe462d60961</td>\n",
       "      <td>b61230475eb6c2e26b4ed0f09abe2cd0b99fcf23</td>\n",
       "    </tr>\n",
       "    <tr>\n",
       "      <th>130401</th>\n",
       "      <td>20120118</td>\n",
       "      <td>http://www.archive.org/images/half_star.png</td>\n",
       "      <td>half_star.png</td>\n",
       "      <td>png</td>\n",
       "      <td>image/png</td>\n",
       "      <td>image/png</td>\n",
       "      <td>16</td>\n",
       "      <td>16</td>\n",
       "      <td>9f75d47797b4fcd16dccbabe4aa84d8a</td>\n",
       "      <td>7cb5cfbbbe7a49ea07ac517b47ab394edca8320f</td>\n",
       "    </tr>\n",
       "  </tbody>\n",
       "</table>\n",
       "<p>130402 rows × 10 columns</p>\n",
       "</div>"
      ],
      "text/plain": [
       "        crawl_date                                                url  \\\n",
       "0         20120118  http://d2h4w2gkaq37lq.cloudfront.net/9dfcc642-...   \n",
       "1         20120118  http://thisisacyd.com/shop/image/data/team/01.jpg   \n",
       "2         20120118  http://lh5.googleusercontent.com/-TBQ7GfgMawQ/...   \n",
       "3         20120118  http://30.media.tumblr.com/tumblr_luzlt9v1wy1q...   \n",
       "4         20120118  http://3.bp.blogspot.com/-dO83yTRE5JM/TvUTREas...   \n",
       "...            ...                                                ...   \n",
       "130397    20120118  http://www.archive.org/services/get-item-image...   \n",
       "130398    20120118  http://www.archive.org/services/get-item-image...   \n",
       "130399    20120118  http://www.archive.org/services/get-item-image...   \n",
       "130400    20120118             http://www.archive.org/images/star.png   \n",
       "130401    20120118        http://www.archive.org/images/half_star.png   \n",
       "\n",
       "                                  filename extension mime_type_web_server  \\\n",
       "0                      small_thumbnail.jpg       jpg           image/jpeg   \n",
       "1                                   01.jpg       jpg           image/jpeg   \n",
       "2                                photo.jpg       jpg           image/jpeg   \n",
       "3       tumblr_luzlt9v1wy1qh9n5lo1_500.jpg       jpg           image/jpeg   \n",
       "4                  393px-Taj_Mahal_art.jpg       jpg           image/jpeg   \n",
       "...                                    ...       ...                  ...   \n",
       "130397                  get-item-image.php       jpg           image/jpeg   \n",
       "130398                  get-item-image.php       jpg           image/jpeg   \n",
       "130399                  get-item-image.php       gif            image/gif   \n",
       "130400                            star.png       png            image/png   \n",
       "130401                       half_star.png       png            image/png   \n",
       "\n",
       "       mime_type_tika  width  height                               md5  \\\n",
       "0          image/jpeg    160      89  750b0de97f03437655ee73b38a1c6027   \n",
       "1          image/jpeg    292     219  ae3507a6a7c44d0f3a99f6dd719ab73e   \n",
       "2          image/jpeg    512     512  340e6e52607c325343af8a940624f6ae   \n",
       "3          image/jpeg    470     700  339c5e1391cddb2cd5c2db17b8f6966b   \n",
       "4          image/jpeg    393     600  c46d58fbd1589ec7342edc3cc05fc9f0   \n",
       "...               ...    ...     ...                               ...   \n",
       "130397     image/jpeg    160     110  2444765db1d6aed0e4a4c011646b7734   \n",
       "130398     image/jpeg     80      80  a022497ab3cfa2fff4610502d1e434a9   \n",
       "130399      image/gif    177      70  7f47244012d04d187b65665ac0be18e4   \n",
       "130400      image/png     16      16  44a64b040eaa613f25a66fe462d60961   \n",
       "130401      image/png     16      16  9f75d47797b4fcd16dccbabe4aa84d8a   \n",
       "\n",
       "                                            sha1  \n",
       "0       accc7fbce1e3b98538f06cded96c0b626e28e5e8  \n",
       "1       f155ba5a57b0d008ba628af464066ed70ec32251  \n",
       "2       fe0a9bf7c4f3d56d150d589958e8c4e16592025f  \n",
       "3       4557f320b2159b402834ce3e07ea3bb1f8d9f1b8  \n",
       "4       e621a7d61bd28de8cb3af5888fd9647a23c87577  \n",
       "...                                          ...  \n",
       "130397  6776d5ea7f73f1636ed27f3d1eb5b4d914f2bd27  \n",
       "130398  3a915e3b5dca3b88f8014614cc1a1b61fe80ee25  \n",
       "130399  964ae2fb6257fccecb952b9e5d88004c744c252c  \n",
       "130400  b61230475eb6c2e26b4ed0f09abe2cd0b99fcf23  \n",
       "130401  7cb5cfbbbe7a49ea07ac517b47ab394edca8320f  \n",
       "\n",
       "[130402 rows x 10 columns]"
      ]
     },
     "execution_count": 9,
     "metadata": {},
     "output_type": "execute_result"
    }
   ],
   "source": [
    "images = pd.read_csv(\"data/image-information.csv\")\n",
    "images"
   ]
  },
  {
   "cell_type": "markdown",
   "metadata": {
    "id": "6USg-a-Rcaod"
   },
   "source": [
    "### PDFs\n",
    "\n",
    "Provides the following columns:\n",
    "\n",
    "* crawl date\n",
    "* URL of the PDF file\n",
    "* filename\n",
    "* PDF extension\n",
    "* MIME type as provided by the web server\n",
    "* MIME type as detected by Apache TIKA\n",
    "* PDF MD5 hash\n",
    "* PDF SHA1 hash"
   ]
  },
  {
   "cell_type": "code",
   "execution_count": 10,
   "metadata": {
    "colab": {
     "base_uri": "https://localhost:8080/",
     "height": 436
    },
    "id": "Nmjfux3ucayR",
    "outputId": "a00bbeac-20d9-4138-9cff-490fa658db3a"
   },
   "outputs": [
    {
     "data": {
      "text/html": [
       "<div>\n",
       "<style scoped>\n",
       "    .dataframe tbody tr th:only-of-type {\n",
       "        vertical-align: middle;\n",
       "    }\n",
       "\n",
       "    .dataframe tbody tr th {\n",
       "        vertical-align: top;\n",
       "    }\n",
       "\n",
       "    .dataframe thead th {\n",
       "        text-align: right;\n",
       "    }\n",
       "</style>\n",
       "<table border=\"1\" class=\"dataframe\">\n",
       "  <thead>\n",
       "    <tr style=\"text-align: right;\">\n",
       "      <th></th>\n",
       "      <th>crawl_date</th>\n",
       "      <th>url</th>\n",
       "      <th>filename</th>\n",
       "      <th>extension</th>\n",
       "      <th>mime_type_web_server</th>\n",
       "      <th>mime_type_tika</th>\n",
       "      <th>md5</th>\n",
       "      <th>sha1</th>\n",
       "    </tr>\n",
       "  </thead>\n",
       "  <tbody>\n",
       "    <tr>\n",
       "      <th>0</th>\n",
       "      <td>20120118</td>\n",
       "      <td>http://www.protectinnovation.com/downloads/let...</td>\n",
       "      <td>letter.pdf</td>\n",
       "      <td>pdf</td>\n",
       "      <td>application/pdf</td>\n",
       "      <td>application/pdf</td>\n",
       "      <td>68eafb616ad4edafbafa3184e3e9ffe7</td>\n",
       "      <td>5c5d548739834967762feb95791232261424b4af</td>\n",
       "    </tr>\n",
       "    <tr>\n",
       "      <th>1</th>\n",
       "      <td>20120118</td>\n",
       "      <td>http://www.librarycopyrightalliance.org/bm~doc...</td>\n",
       "      <td>lca-sopa-8nov11.pdf</td>\n",
       "      <td>pdf</td>\n",
       "      <td>application/pdf</td>\n",
       "      <td>application/pdf</td>\n",
       "      <td>dd7763734b7ed46f8f11279622f70c26</td>\n",
       "      <td>80e5a5bc261a3a12e61e74323a2d3035ec5849b1</td>\n",
       "    </tr>\n",
       "    <tr>\n",
       "      <th>2</th>\n",
       "      <td>20120118</td>\n",
       "      <td>http://www.michaelgeist.ca/index2.php?option=c...</td>\n",
       "      <td>index2.php</td>\n",
       "      <td>pdf</td>\n",
       "      <td>application/pdf</td>\n",
       "      <td>application/pdf</td>\n",
       "      <td>ff0e39571c42504ff3f3d70e3e1f99e0</td>\n",
       "      <td>d5143c9740263909684b7245a67024711ef178a6</td>\n",
       "    </tr>\n",
       "    <tr>\n",
       "      <th>3</th>\n",
       "      <td>20120119</td>\n",
       "      <td>http://dq99alanzv66m.cloudfront.net/sopa/img/1...</td>\n",
       "      <td>12-14-letter.pdf</td>\n",
       "      <td>pdf</td>\n",
       "      <td>application/pdf</td>\n",
       "      <td>application/pdf</td>\n",
       "      <td>a25918f1a749bd1d44b2180789f0f484</td>\n",
       "      <td>8b50cf974efd63898677e08289da7868e8e80847</td>\n",
       "    </tr>\n",
       "    <tr>\n",
       "      <th>4</th>\n",
       "      <td>20120118</td>\n",
       "      <td>https://static.googleusercontent.com/external_...</td>\n",
       "      <td>takeaction.pdf</td>\n",
       "      <td>pdf</td>\n",
       "      <td>application/pdf</td>\n",
       "      <td>application/pdf</td>\n",
       "      <td>430d2baddb31e29908e91242731cc8ae</td>\n",
       "      <td>22f390787b8ea07680e27ee9e317ea4615b2b41a</td>\n",
       "    </tr>\n",
       "    <tr>\n",
       "      <th>5</th>\n",
       "      <td>20120118</td>\n",
       "      <td>http://joshdsigns.com/pdf/curriculum_joshdsign...</td>\n",
       "      <td>curriculum_joshdsigns_2011.pdf</td>\n",
       "      <td>pdf</td>\n",
       "      <td>application/pdf</td>\n",
       "      <td>application/pdf</td>\n",
       "      <td>2798bf57c37814b143343265cad46ae4</td>\n",
       "      <td>b2c6b20c6cb5c75806dd02db67cd47aa8b9830c1</td>\n",
       "    </tr>\n",
       "    <tr>\n",
       "      <th>6</th>\n",
       "      <td>20120119</td>\n",
       "      <td>http://oreilly.com/pdf/sample-newsletter.pdf</td>\n",
       "      <td>sample-newsletter.pdf</td>\n",
       "      <td>pdf</td>\n",
       "      <td>application/pdf</td>\n",
       "      <td>application/pdf</td>\n",
       "      <td>fe49ef12f61fdf4e53a3960a5c366d22</td>\n",
       "      <td>50aae11ce602277ca1299f62890459e9308658ed</td>\n",
       "    </tr>\n",
       "    <tr>\n",
       "      <th>7</th>\n",
       "      <td>20120119</td>\n",
       "      <td>http://bikinicarwashorlando.com/wp-content/upl...</td>\n",
       "      <td>Baywash-AD-package_0112.pdf</td>\n",
       "      <td>pdf</td>\n",
       "      <td>application/pdf</td>\n",
       "      <td>application/pdf</td>\n",
       "      <td>c425c03da46d0f2b8c3c7726021ddf05</td>\n",
       "      <td>6ce5e8d0c954044e69e85f1a1a3797d0d6700e29</td>\n",
       "    </tr>\n",
       "    <tr>\n",
       "      <th>8</th>\n",
       "      <td>20120119</td>\n",
       "      <td>http://www.enriquedans.com/wp-content/uploads/...</td>\n",
       "      <td>sopatrampa-expansion.pdf</td>\n",
       "      <td>pdf</td>\n",
       "      <td>application/pdf</td>\n",
       "      <td>application/pdf</td>\n",
       "      <td>98510120211733da59bc992f6d7f8da8</td>\n",
       "      <td>83f97ad66b6701db141a61aed8d61fd7ccf3b4a4</td>\n",
       "    </tr>\n",
       "    <tr>\n",
       "      <th>9</th>\n",
       "      <td>20120119</td>\n",
       "      <td>http://chuda.org.ve/descargas/Columna.pdf</td>\n",
       "      <td>Columna.pdf</td>\n",
       "      <td>pdf</td>\n",
       "      <td>application/pdf</td>\n",
       "      <td>application/pdf</td>\n",
       "      <td>bc7125e4fa47cd2300b82ec705d105f9</td>\n",
       "      <td>28295db2f81ad7fc6c14141d4d15d57a8702a2ce</td>\n",
       "    </tr>\n",
       "    <tr>\n",
       "      <th>10</th>\n",
       "      <td>20120119</td>\n",
       "      <td>http://www.enriquedans.com/wp-content/uploads/...</td>\n",
       "      <td>Lauer01.pdf</td>\n",
       "      <td>pdf</td>\n",
       "      <td>application/pdf</td>\n",
       "      <td>application/pdf</td>\n",
       "      <td>92bae9751199600489cea00c2a120254</td>\n",
       "      <td>44f8d61d3bce288166bfd3ac5c66657fa36a035f</td>\n",
       "    </tr>\n",
       "    <tr>\n",
       "      <th>11</th>\n",
       "      <td>20120118</td>\n",
       "      <td>http://www.mpaa.org/resources/995e11f5-135c-4f...</td>\n",
       "      <td>995e11f5-135c-4ff2-962a-1f41e32182df.pdf</td>\n",
       "      <td>pdf</td>\n",
       "      <td>application/pdf</td>\n",
       "      <td>application/pdf</td>\n",
       "      <td>bf999f53f6f578c5507f988d6121fccd</td>\n",
       "      <td>fc415aa42010484a464f15a7587a3df11f9632e6</td>\n",
       "    </tr>\n",
       "    <tr>\n",
       "      <th>12</th>\n",
       "      <td>20120118</td>\n",
       "      <td>http://cnt.es/sites/default/files/preguntas_y_...</td>\n",
       "      <td>preguntas_y_respuestas_sobre_el_laberinto_educ...</td>\n",
       "      <td>pdf</td>\n",
       "      <td>application/pdf</td>\n",
       "      <td>application/pdf</td>\n",
       "      <td>036ccb1f982bd4c38b15533a7df18336</td>\n",
       "      <td>cd1ef70af799376b6602561c51bf36d8efd2d420</td>\n",
       "    </tr>\n",
       "    <tr>\n",
       "      <th>13</th>\n",
       "      <td>20120118</td>\n",
       "      <td>http://joshdsigns.com/pdf/curriculum_joshdsign...</td>\n",
       "      <td>curriculum_joshdsigns_2011.pdf</td>\n",
       "      <td>pdf</td>\n",
       "      <td>application/pdf</td>\n",
       "      <td>application/pdf</td>\n",
       "      <td>2798bf57c37814b143343265cad46ae4</td>\n",
       "      <td>b2c6b20c6cb5c75806dd02db67cd47aa8b9830c1</td>\n",
       "    </tr>\n",
       "    <tr>\n",
       "      <th>14</th>\n",
       "      <td>20120118</td>\n",
       "      <td>http://www.gpo.gov/fdsys/pkg/BILLS-112s968rs/p...</td>\n",
       "      <td>BILLS-112s968rs.pdf</td>\n",
       "      <td>pdf</td>\n",
       "      <td>application/pdf</td>\n",
       "      <td>application/pdf</td>\n",
       "      <td>5ad83ff03c9b42ac168b538e99f2b33d</td>\n",
       "      <td>37a2ce0322b8b0fce190ca204f9dda64faa4abd8</td>\n",
       "    </tr>\n",
       "    <tr>\n",
       "      <th>15</th>\n",
       "      <td>20120118</td>\n",
       "      <td>http://www.gpo.gov/fdsys/pkg/BILLS-112hr3261ih...</td>\n",
       "      <td>BILLS-112hr3261ih.pdf</td>\n",
       "      <td>pdf</td>\n",
       "      <td>application/pdf</td>\n",
       "      <td>application/pdf</td>\n",
       "      <td>9e812c0cbf740654f2115d36f708bf89</td>\n",
       "      <td>52cd1dd28b12be40bf74ddbaecdedeaa78b64b70</td>\n",
       "    </tr>\n",
       "  </tbody>\n",
       "</table>\n",
       "</div>"
      ],
      "text/plain": [
       "    crawl_date                                                url  \\\n",
       "0     20120118  http://www.protectinnovation.com/downloads/let...   \n",
       "1     20120118  http://www.librarycopyrightalliance.org/bm~doc...   \n",
       "2     20120118  http://www.michaelgeist.ca/index2.php?option=c...   \n",
       "3     20120119  http://dq99alanzv66m.cloudfront.net/sopa/img/1...   \n",
       "4     20120118  https://static.googleusercontent.com/external_...   \n",
       "5     20120118  http://joshdsigns.com/pdf/curriculum_joshdsign...   \n",
       "6     20120119       http://oreilly.com/pdf/sample-newsletter.pdf   \n",
       "7     20120119  http://bikinicarwashorlando.com/wp-content/upl...   \n",
       "8     20120119  http://www.enriquedans.com/wp-content/uploads/...   \n",
       "9     20120119          http://chuda.org.ve/descargas/Columna.pdf   \n",
       "10    20120119  http://www.enriquedans.com/wp-content/uploads/...   \n",
       "11    20120118  http://www.mpaa.org/resources/995e11f5-135c-4f...   \n",
       "12    20120118  http://cnt.es/sites/default/files/preguntas_y_...   \n",
       "13    20120118  http://joshdsigns.com/pdf/curriculum_joshdsign...   \n",
       "14    20120118  http://www.gpo.gov/fdsys/pkg/BILLS-112s968rs/p...   \n",
       "15    20120118  http://www.gpo.gov/fdsys/pkg/BILLS-112hr3261ih...   \n",
       "\n",
       "                                             filename extension  \\\n",
       "0                                          letter.pdf       pdf   \n",
       "1                                 lca-sopa-8nov11.pdf       pdf   \n",
       "2                                          index2.php       pdf   \n",
       "3                                    12-14-letter.pdf       pdf   \n",
       "4                                      takeaction.pdf       pdf   \n",
       "5                      curriculum_joshdsigns_2011.pdf       pdf   \n",
       "6                               sample-newsletter.pdf       pdf   \n",
       "7                         Baywash-AD-package_0112.pdf       pdf   \n",
       "8                            sopatrampa-expansion.pdf       pdf   \n",
       "9                                         Columna.pdf       pdf   \n",
       "10                                        Lauer01.pdf       pdf   \n",
       "11           995e11f5-135c-4ff2-962a-1f41e32182df.pdf       pdf   \n",
       "12  preguntas_y_respuestas_sobre_el_laberinto_educ...       pdf   \n",
       "13                     curriculum_joshdsigns_2011.pdf       pdf   \n",
       "14                                BILLS-112s968rs.pdf       pdf   \n",
       "15                              BILLS-112hr3261ih.pdf       pdf   \n",
       "\n",
       "   mime_type_web_server   mime_type_tika                               md5  \\\n",
       "0       application/pdf  application/pdf  68eafb616ad4edafbafa3184e3e9ffe7   \n",
       "1       application/pdf  application/pdf  dd7763734b7ed46f8f11279622f70c26   \n",
       "2       application/pdf  application/pdf  ff0e39571c42504ff3f3d70e3e1f99e0   \n",
       "3       application/pdf  application/pdf  a25918f1a749bd1d44b2180789f0f484   \n",
       "4       application/pdf  application/pdf  430d2baddb31e29908e91242731cc8ae   \n",
       "5       application/pdf  application/pdf  2798bf57c37814b143343265cad46ae4   \n",
       "6       application/pdf  application/pdf  fe49ef12f61fdf4e53a3960a5c366d22   \n",
       "7       application/pdf  application/pdf  c425c03da46d0f2b8c3c7726021ddf05   \n",
       "8       application/pdf  application/pdf  98510120211733da59bc992f6d7f8da8   \n",
       "9       application/pdf  application/pdf  bc7125e4fa47cd2300b82ec705d105f9   \n",
       "10      application/pdf  application/pdf  92bae9751199600489cea00c2a120254   \n",
       "11      application/pdf  application/pdf  bf999f53f6f578c5507f988d6121fccd   \n",
       "12      application/pdf  application/pdf  036ccb1f982bd4c38b15533a7df18336   \n",
       "13      application/pdf  application/pdf  2798bf57c37814b143343265cad46ae4   \n",
       "14      application/pdf  application/pdf  5ad83ff03c9b42ac168b538e99f2b33d   \n",
       "15      application/pdf  application/pdf  9e812c0cbf740654f2115d36f708bf89   \n",
       "\n",
       "                                        sha1  \n",
       "0   5c5d548739834967762feb95791232261424b4af  \n",
       "1   80e5a5bc261a3a12e61e74323a2d3035ec5849b1  \n",
       "2   d5143c9740263909684b7245a67024711ef178a6  \n",
       "3   8b50cf974efd63898677e08289da7868e8e80847  \n",
       "4   22f390787b8ea07680e27ee9e317ea4615b2b41a  \n",
       "5   b2c6b20c6cb5c75806dd02db67cd47aa8b9830c1  \n",
       "6   50aae11ce602277ca1299f62890459e9308658ed  \n",
       "7   6ce5e8d0c954044e69e85f1a1a3797d0d6700e29  \n",
       "8   83f97ad66b6701db141a61aed8d61fd7ccf3b4a4  \n",
       "9   28295db2f81ad7fc6c14141d4d15d57a8702a2ce  \n",
       "10  44f8d61d3bce288166bfd3ac5c66657fa36a035f  \n",
       "11  fc415aa42010484a464f15a7587a3df11f9632e6  \n",
       "12  cd1ef70af799376b6602561c51bf36d8efd2d420  \n",
       "13  b2c6b20c6cb5c75806dd02db67cd47aa8b9830c1  \n",
       "14  37a2ce0322b8b0fce190ca204f9dda64faa4abd8  \n",
       "15  52cd1dd28b12be40bf74ddbaecdedeaa78b64b70  "
      ]
     },
     "execution_count": 10,
     "metadata": {},
     "output_type": "execute_result"
    }
   ],
   "source": [
    "pdf = pd.read_csv(\"data/pdf-information.csv\")\n",
    "pdf"
   ]
  },
  {
   "cell_type": "markdown",
   "metadata": {
    "id": "owAkSikAcrvU"
   },
   "source": [
    "### PowerPoint (all software types) information\n",
    "\n",
    "Provides the following columns:\n",
    "\n",
    "* crawl date\n",
    "* URL of a PowerPoint or similar file\n",
    "* filename\n",
    "* PowerPoint or similar file extension\n",
    "* MIME type as provided by the web server\n",
    "* MIME type as detected by Apache TIKA\n",
    "* PowerPoint or similar file MD5 hash\n",
    "* PowerPoint or similar file SHA1 hash"
   ]
  },
  {
   "cell_type": "code",
   "execution_count": 11,
   "metadata": {
    "colab": {
     "base_uri": "https://localhost:8080/",
     "height": 92
    },
    "id": "-Y0kGxvycvtN",
    "outputId": "621ba6b0-bdf3-4aa5-f998-e524fe118fa2"
   },
   "outputs": [
    {
     "data": {
      "text/html": [
       "<div>\n",
       "<style scoped>\n",
       "    .dataframe tbody tr th:only-of-type {\n",
       "        vertical-align: middle;\n",
       "    }\n",
       "\n",
       "    .dataframe tbody tr th {\n",
       "        vertical-align: top;\n",
       "    }\n",
       "\n",
       "    .dataframe thead th {\n",
       "        text-align: right;\n",
       "    }\n",
       "</style>\n",
       "<table border=\"1\" class=\"dataframe\">\n",
       "  <thead>\n",
       "    <tr style=\"text-align: right;\">\n",
       "      <th></th>\n",
       "      <th>crawl_date</th>\n",
       "      <th>url</th>\n",
       "      <th>filename</th>\n",
       "      <th>extension</th>\n",
       "      <th>mime_type_web_server</th>\n",
       "      <th>mime_type_tika</th>\n",
       "      <th>md5</th>\n",
       "      <th>sha1</th>\n",
       "    </tr>\n",
       "  </thead>\n",
       "  <tbody>\n",
       "  </tbody>\n",
       "</table>\n",
       "</div>"
      ],
      "text/plain": [
       "Empty DataFrame\n",
       "Columns: [crawl_date, url, filename, extension, mime_type_web_server, mime_type_tika, md5, sha1]\n",
       "Index: []"
      ]
     },
     "execution_count": 11,
     "metadata": {},
     "output_type": "execute_result"
    }
   ],
   "source": [
    "powerpoint = pd.read_csv(\"data/powerpoint-information.csv\")\n",
    "powerpoint"
   ]
  },
  {
   "cell_type": "markdown",
   "metadata": {
    "id": "nOhl9xqOc1tq"
   },
   "source": [
    "### Spreadsheets\n",
    "\n",
    "Provides the following columns:\n",
    "\n",
    "* crawl date\n",
    "* URL of the spreadsheet file\n",
    "* filename\n",
    "* spreadsheet extension\n",
    "* MIME type as provided by the web server\n",
    "* MIME type as detected by Apache TIKA\n",
    "* spreadsheet MD5 hash\n",
    "* spreadsheet SHA1 hash\n"
   ]
  },
  {
   "cell_type": "code",
   "execution_count": 12,
   "metadata": {
    "colab": {
     "base_uri": "https://localhost:8080/",
     "height": 92
    },
    "id": "-9MXi7g0c2BS",
    "outputId": "7710bca9-ea3b-4e5d-f93a-ed190cf42477"
   },
   "outputs": [
    {
     "data": {
      "text/html": [
       "<div>\n",
       "<style scoped>\n",
       "    .dataframe tbody tr th:only-of-type {\n",
       "        vertical-align: middle;\n",
       "    }\n",
       "\n",
       "    .dataframe tbody tr th {\n",
       "        vertical-align: top;\n",
       "    }\n",
       "\n",
       "    .dataframe thead th {\n",
       "        text-align: right;\n",
       "    }\n",
       "</style>\n",
       "<table border=\"1\" class=\"dataframe\">\n",
       "  <thead>\n",
       "    <tr style=\"text-align: right;\">\n",
       "      <th></th>\n",
       "      <th>crawl_date</th>\n",
       "      <th>url</th>\n",
       "      <th>filename</th>\n",
       "      <th>extension</th>\n",
       "      <th>mime_type_web_server</th>\n",
       "      <th>mime_type_tika</th>\n",
       "      <th>md5</th>\n",
       "      <th>sha1</th>\n",
       "    </tr>\n",
       "  </thead>\n",
       "  <tbody>\n",
       "  </tbody>\n",
       "</table>\n",
       "</div>"
      ],
      "text/plain": [
       "Empty DataFrame\n",
       "Columns: [crawl_date, url, filename, extension, mime_type_web_server, mime_type_tika, md5, sha1]\n",
       "Index: []"
      ]
     },
     "execution_count": 12,
     "metadata": {},
     "output_type": "execute_result"
    }
   ],
   "source": [
    "spreadsheet = pd.read_csv(\"data/spreadsheet-information.csv\")\n",
    "spreadsheet"
   ]
  },
  {
   "cell_type": "markdown",
   "metadata": {
    "id": "xmJP4rckdBq4"
   },
   "source": [
    "### Videos\n",
    "\n",
    "Provides the following columns:\n",
    "\n",
    "* crawl date\n",
    "* URL of the video file\n",
    "* filename\n",
    "* video extension\n",
    "* MIME type as provided by the web server\n",
    "* MIME type as detected by Apache TIKA\n",
    "* video MD5 hash\n",
    "* video SHA1 hash\n"
   ]
  },
  {
   "cell_type": "code",
   "execution_count": 13,
   "metadata": {
    "colab": {
     "base_uri": "https://localhost:8080/",
     "height": 637
    },
    "id": "mKHMh6M-dB0J",
    "outputId": "d3cfa40a-35e0-4b15-a4bb-be06f6326d43"
   },
   "outputs": [
    {
     "data": {
      "text/html": [
       "<div>\n",
       "<style scoped>\n",
       "    .dataframe tbody tr th:only-of-type {\n",
       "        vertical-align: middle;\n",
       "    }\n",
       "\n",
       "    .dataframe tbody tr th {\n",
       "        vertical-align: top;\n",
       "    }\n",
       "\n",
       "    .dataframe thead th {\n",
       "        text-align: right;\n",
       "    }\n",
       "</style>\n",
       "<table border=\"1\" class=\"dataframe\">\n",
       "  <thead>\n",
       "    <tr style=\"text-align: right;\">\n",
       "      <th></th>\n",
       "      <th>crawl_date</th>\n",
       "      <th>url</th>\n",
       "      <th>filename</th>\n",
       "      <th>extension</th>\n",
       "      <th>mime_type_web_server</th>\n",
       "      <th>mime_type_tika</th>\n",
       "      <th>md5</th>\n",
       "      <th>sha1</th>\n",
       "    </tr>\n",
       "  </thead>\n",
       "  <tbody>\n",
       "    <tr>\n",
       "      <th>0</th>\n",
       "      <td>20120118</td>\n",
       "      <td>http://rawreplaymedia.com/media/2011/1111/sopa...</td>\n",
       "      <td>sopafairuseprotest_120117b.mp4</td>\n",
       "      <td>mp4</td>\n",
       "      <td>video/mp4</td>\n",
       "      <td>video/mp4</td>\n",
       "      <td>4234ee3450e3b7f121f496afc891eac1</td>\n",
       "      <td>cbf21bb9b1fa1b969184fcbe4334e8c7ffb109f4</td>\n",
       "    </tr>\n",
       "    <tr>\n",
       "      <th>1</th>\n",
       "      <td>20120118</td>\n",
       "      <td>http://v.tumblr.com/tumblr_lklm9ulRc41qe3twr_r...</td>\n",
       "      <td>tumblr_lklm9ulRc41qe3twr_r1.mov</td>\n",
       "      <td>mp4</td>\n",
       "      <td>video/quicktime</td>\n",
       "      <td>video/mp4</td>\n",
       "      <td>c0b56530a493d9596424a79135155cf4</td>\n",
       "      <td>41ee4a462d18a7bdc59cad480e110b84c7e6913b</td>\n",
       "    </tr>\n",
       "    <tr>\n",
       "      <th>2</th>\n",
       "      <td>20120118</td>\n",
       "      <td>http://vt.tumblr.com/tumblr_lrmu4x31Bf1qf1zsf.mp4</td>\n",
       "      <td>tumblr_lrmu4x31Bf1qf1zsf.mp4</td>\n",
       "      <td>qt</td>\n",
       "      <td>video/mp4</td>\n",
       "      <td>video/quicktime</td>\n",
       "      <td>1d7ae145e229df40eaf762e4ede6eec8</td>\n",
       "      <td>b91c36a03b4f973d32b7884a357a46ea8b8a6a59</td>\n",
       "    </tr>\n",
       "    <tr>\n",
       "      <th>3</th>\n",
       "      <td>20120118</td>\n",
       "      <td>http://vt.tumblr.com/tumblr_lxl7ypR3p21qggwnf.mp4</td>\n",
       "      <td>tumblr_lxl7ypR3p21qggwnf.mp4</td>\n",
       "      <td>qt</td>\n",
       "      <td>video/mp4</td>\n",
       "      <td>video/quicktime</td>\n",
       "      <td>302711ec6b17c8333e19794a085f580c</td>\n",
       "      <td>8908f2e95d9c61147e359ebe477033665fa1b440</td>\n",
       "    </tr>\n",
       "    <tr>\n",
       "      <th>4</th>\n",
       "      <td>20120118</td>\n",
       "      <td>http://v.tumblr.com/tumblr_lxz2e036hr1qebu2l_r...</td>\n",
       "      <td>tumblr_lxz2e036hr1qebu2l_r1.mov</td>\n",
       "      <td>m4v</td>\n",
       "      <td>video/quicktime</td>\n",
       "      <td>video/x-m4v</td>\n",
       "      <td>22dcaa50ac0b5c9e93e6d1f67cebe5de</td>\n",
       "      <td>87f5536e2049e34d113670b1cf1b61d330844623</td>\n",
       "    </tr>\n",
       "    <tr>\n",
       "      <th>...</th>\n",
       "      <td>...</td>\n",
       "      <td>...</td>\n",
       "      <td>...</td>\n",
       "      <td>...</td>\n",
       "      <td>...</td>\n",
       "      <td>...</td>\n",
       "      <td>...</td>\n",
       "      <td>...</td>\n",
       "    </tr>\n",
       "    <tr>\n",
       "      <th>74</th>\n",
       "      <td>20120118</td>\n",
       "      <td>http://videos.videopress.com/P6lGryVS/medium_s...</td>\n",
       "      <td>medium_std.mp4</td>\n",
       "      <td>qt</td>\n",
       "      <td>video/mp4</td>\n",
       "      <td>video/quicktime</td>\n",
       "      <td>ae8c0cffa6c02f09216c3452b0261a09</td>\n",
       "      <td>b88f2943a3c5eb3a0e50006311ff57f1099ba486</td>\n",
       "    </tr>\n",
       "    <tr>\n",
       "      <th>75</th>\n",
       "      <td>20120118</td>\n",
       "      <td>http://videos.videopress.com/QOMfLyhd/medium_s...</td>\n",
       "      <td>medium_std.mp4</td>\n",
       "      <td>qt</td>\n",
       "      <td>video/mp4</td>\n",
       "      <td>video/quicktime</td>\n",
       "      <td>13a5d6afc7a934589de5db6d0818a521</td>\n",
       "      <td>c1eef69b19b3bc2f58ab8eb656df812a4fd49216</td>\n",
       "    </tr>\n",
       "    <tr>\n",
       "      <th>76</th>\n",
       "      <td>20120118</td>\n",
       "      <td>http://videos.videopress.com/kAklr7b3/medium1_...</td>\n",
       "      <td>medium1_std.mp4</td>\n",
       "      <td>qt</td>\n",
       "      <td>video/mp4</td>\n",
       "      <td>video/quicktime</td>\n",
       "      <td>faf5737db21b402c8d28bc05ccd4add6</td>\n",
       "      <td>85ecf21f10d7a761378d17db3dbafca6c4f8f092</td>\n",
       "    </tr>\n",
       "    <tr>\n",
       "      <th>77</th>\n",
       "      <td>20120118</td>\n",
       "      <td>http://videos.videopress.com/uOAvoIIV/medium2_...</td>\n",
       "      <td>medium2_std.mp4</td>\n",
       "      <td>qt</td>\n",
       "      <td>video/mp4</td>\n",
       "      <td>video/quicktime</td>\n",
       "      <td>aede71eb02dbfe697442b1dac4220acf</td>\n",
       "      <td>1e51f9fcd422c193f12617c580bb424dc67c1ca3</td>\n",
       "    </tr>\n",
       "    <tr>\n",
       "      <th>78</th>\n",
       "      <td>20120118</td>\n",
       "      <td>http://videos.videopress.com/RmvNfrSj/medium3_...</td>\n",
       "      <td>medium3_std.mp4</td>\n",
       "      <td>qt</td>\n",
       "      <td>video/mp4</td>\n",
       "      <td>video/quicktime</td>\n",
       "      <td>25d638c51b007104a4fcc6fee2106c8d</td>\n",
       "      <td>839e03acdb8497951cabbb9a269edefc42bf63f9</td>\n",
       "    </tr>\n",
       "  </tbody>\n",
       "</table>\n",
       "<p>79 rows × 8 columns</p>\n",
       "</div>"
      ],
      "text/plain": [
       "    crawl_date                                                url  \\\n",
       "0     20120118  http://rawreplaymedia.com/media/2011/1111/sopa...   \n",
       "1     20120118  http://v.tumblr.com/tumblr_lklm9ulRc41qe3twr_r...   \n",
       "2     20120118  http://vt.tumblr.com/tumblr_lrmu4x31Bf1qf1zsf.mp4   \n",
       "3     20120118  http://vt.tumblr.com/tumblr_lxl7ypR3p21qggwnf.mp4   \n",
       "4     20120118  http://v.tumblr.com/tumblr_lxz2e036hr1qebu2l_r...   \n",
       "..         ...                                                ...   \n",
       "74    20120118  http://videos.videopress.com/P6lGryVS/medium_s...   \n",
       "75    20120118  http://videos.videopress.com/QOMfLyhd/medium_s...   \n",
       "76    20120118  http://videos.videopress.com/kAklr7b3/medium1_...   \n",
       "77    20120118  http://videos.videopress.com/uOAvoIIV/medium2_...   \n",
       "78    20120118  http://videos.videopress.com/RmvNfrSj/medium3_...   \n",
       "\n",
       "                           filename extension mime_type_web_server  \\\n",
       "0    sopafairuseprotest_120117b.mp4       mp4            video/mp4   \n",
       "1   tumblr_lklm9ulRc41qe3twr_r1.mov       mp4      video/quicktime   \n",
       "2      tumblr_lrmu4x31Bf1qf1zsf.mp4        qt            video/mp4   \n",
       "3      tumblr_lxl7ypR3p21qggwnf.mp4        qt            video/mp4   \n",
       "4   tumblr_lxz2e036hr1qebu2l_r1.mov       m4v      video/quicktime   \n",
       "..                              ...       ...                  ...   \n",
       "74                   medium_std.mp4        qt            video/mp4   \n",
       "75                   medium_std.mp4        qt            video/mp4   \n",
       "76                  medium1_std.mp4        qt            video/mp4   \n",
       "77                  medium2_std.mp4        qt            video/mp4   \n",
       "78                  medium3_std.mp4        qt            video/mp4   \n",
       "\n",
       "     mime_type_tika                               md5  \\\n",
       "0         video/mp4  4234ee3450e3b7f121f496afc891eac1   \n",
       "1         video/mp4  c0b56530a493d9596424a79135155cf4   \n",
       "2   video/quicktime  1d7ae145e229df40eaf762e4ede6eec8   \n",
       "3   video/quicktime  302711ec6b17c8333e19794a085f580c   \n",
       "4       video/x-m4v  22dcaa50ac0b5c9e93e6d1f67cebe5de   \n",
       "..              ...                               ...   \n",
       "74  video/quicktime  ae8c0cffa6c02f09216c3452b0261a09   \n",
       "75  video/quicktime  13a5d6afc7a934589de5db6d0818a521   \n",
       "76  video/quicktime  faf5737db21b402c8d28bc05ccd4add6   \n",
       "77  video/quicktime  aede71eb02dbfe697442b1dac4220acf   \n",
       "78  video/quicktime  25d638c51b007104a4fcc6fee2106c8d   \n",
       "\n",
       "                                        sha1  \n",
       "0   cbf21bb9b1fa1b969184fcbe4334e8c7ffb109f4  \n",
       "1   41ee4a462d18a7bdc59cad480e110b84c7e6913b  \n",
       "2   b91c36a03b4f973d32b7884a357a46ea8b8a6a59  \n",
       "3   8908f2e95d9c61147e359ebe477033665fa1b440  \n",
       "4   87f5536e2049e34d113670b1cf1b61d330844623  \n",
       "..                                       ...  \n",
       "74  b88f2943a3c5eb3a0e50006311ff57f1099ba486  \n",
       "75  c1eef69b19b3bc2f58ab8eb656df812a4fd49216  \n",
       "76  85ecf21f10d7a761378d17db3dbafca6c4f8f092  \n",
       "77  1e51f9fcd422c193f12617c580bb424dc67c1ca3  \n",
       "78  839e03acdb8497951cabbb9a269edefc42bf63f9  \n",
       "\n",
       "[79 rows x 8 columns]"
      ]
     },
     "execution_count": 13,
     "metadata": {},
     "output_type": "execute_result"
    }
   ],
   "source": [
    "video = pd.read_csv(\"data/video-information.csv\")\n",
    "video"
   ]
  },
  {
   "cell_type": "markdown",
   "metadata": {
    "id": "U3uYwccVdIqR"
   },
   "source": [
    "### Word Documents (all software types)\n",
    "\n",
    "Provides the following columns:\n",
    "\n",
    "* crawl date\n",
    "* URL of the word document or similar file\n",
    "* filename\n",
    "* word document or similar file extension\n",
    "* MIME type as provided by the web server\n",
    "* MIME type as detected by Apache TIKA\n",
    "* word document or similar file MD5 hash\n",
    "* word document or similar file SHA1 hash\n"
   ]
  },
  {
   "cell_type": "code",
   "execution_count": 16,
   "metadata": {
    "colab": {
     "base_uri": "https://localhost:8080/",
     "height": 135
    },
    "id": "pXuBAaNzdIzc",
    "outputId": "675a3507-4702-4c54-e405-bd0254f43023"
   },
   "outputs": [
    {
     "data": {
      "text/html": [
       "<div>\n",
       "<style scoped>\n",
       "    .dataframe tbody tr th:only-of-type {\n",
       "        vertical-align: middle;\n",
       "    }\n",
       "\n",
       "    .dataframe tbody tr th {\n",
       "        vertical-align: top;\n",
       "    }\n",
       "\n",
       "    .dataframe thead th {\n",
       "        text-align: right;\n",
       "    }\n",
       "</style>\n",
       "<table border=\"1\" class=\"dataframe\">\n",
       "  <thead>\n",
       "    <tr style=\"text-align: right;\">\n",
       "      <th></th>\n",
       "      <th>crawl_date</th>\n",
       "      <th>url</th>\n",
       "      <th>filename</th>\n",
       "      <th>extension</th>\n",
       "      <th>mime_type_web_server</th>\n",
       "      <th>mime_type_tika</th>\n",
       "      <th>md5</th>\n",
       "      <th>sha1</th>\n",
       "    </tr>\n",
       "  </thead>\n",
       "  <tbody>\n",
       "    <tr>\n",
       "      <th>0</th>\n",
       "      <td>20120119</td>\n",
       "      <td>http://www.consent.me.uk/docs/requestyourinfor...</td>\n",
       "      <td>requestyourinformation.rtf</td>\n",
       "      <td>rtf</td>\n",
       "      <td>application/rtf</td>\n",
       "      <td>application/rtf</td>\n",
       "      <td>d6a1d1ed0620158828723eb114087e12</td>\n",
       "      <td>7850d84d6db238c0fac142192518e06215f022f7</td>\n",
       "    </tr>\n",
       "    <tr>\n",
       "      <th>1</th>\n",
       "      <td>20120118</td>\n",
       "      <td>http://jessicadoyle.com/robots.txt</td>\n",
       "      <td>robots.txt</td>\n",
       "      <td>rtf</td>\n",
       "      <td>text/plain</td>\n",
       "      <td>application/rtf</td>\n",
       "      <td>65f1031884a9fdd3413f7bb27e61547b</td>\n",
       "      <td>40eef3cbafc4587f95a81983d505b7e8f2033df8</td>\n",
       "    </tr>\n",
       "  </tbody>\n",
       "</table>\n",
       "</div>"
      ],
      "text/plain": [
       "   crawl_date                                                url  \\\n",
       "0    20120119  http://www.consent.me.uk/docs/requestyourinfor...   \n",
       "1    20120118                 http://jessicadoyle.com/robots.txt   \n",
       "\n",
       "                     filename extension mime_type_web_server   mime_type_tika  \\\n",
       "0  requestyourinformation.rtf       rtf      application/rtf  application/rtf   \n",
       "1                  robots.txt       rtf           text/plain  application/rtf   \n",
       "\n",
       "                                md5                                      sha1  \n",
       "0  d6a1d1ed0620158828723eb114087e12  7850d84d6db238c0fac142192518e06215f022f7  \n",
       "1  65f1031884a9fdd3413f7bb27e61547b  40eef3cbafc4587f95a81983d505b7e8f2033df8  "
      ]
     },
     "execution_count": 16,
     "metadata": {},
     "output_type": "execute_result"
    }
   ],
   "source": [
    "word = pd.read_csv(\"data/word-document-information.csv\")\n",
    "word"
   ]
  },
  {
   "cell_type": "markdown",
   "metadata": {
    "id": "wuzuazApycSu"
   },
   "source": [
    "## Text\n",
    "\n",
    "This derivative provides access to the \"plain text\" of a collection, extracted from web page HTML."
   ]
  },
  {
   "cell_type": "markdown",
   "metadata": {
    "id": "_GTL6VtBydje"
   },
   "source": [
    "### Web Pages\n",
    "\n",
    "Provides the following columns:\n",
    "\n",
    "* crawl date\n",
    "* web domain\n",
    "* URL\n",
    "* MIME type as provided by the web server\n",
    "* MIME type as detected by Apache TIKA\n",
    "* content (HTTP headers and HTML removed)\n",
    "\n",
    "**This file is HUGE! Here, limited to the first 1000 non-header rows**"
   ]
  },
  {
   "cell_type": "code",
   "execution_count": 18,
   "metadata": {
    "colab": {
     "base_uri": "https://localhost:8080/",
     "height": 424
    },
    "id": "jH5fqM9Tyfj7",
    "outputId": "02183875-fde4-4dc0-8f70-6d6c112ed13e",
    "scrolled": true
   },
   "outputs": [
    {
     "data": {
      "text/html": [
       "<div>\n",
       "<style scoped>\n",
       "    .dataframe tbody tr th:only-of-type {\n",
       "        vertical-align: middle;\n",
       "    }\n",
       "\n",
       "    .dataframe tbody tr th {\n",
       "        vertical-align: top;\n",
       "    }\n",
       "\n",
       "    .dataframe thead th {\n",
       "        text-align: right;\n",
       "    }\n",
       "</style>\n",
       "<table border=\"1\" class=\"dataframe\">\n",
       "  <thead>\n",
       "    <tr style=\"text-align: right;\">\n",
       "      <th></th>\n",
       "      <th>crawl_date</th>\n",
       "      <th>domain</th>\n",
       "      <th>url</th>\n",
       "      <th>mime_type_web_server</th>\n",
       "      <th>mime_type_tika</th>\n",
       "      <th>language</th>\n",
       "      <th>content</th>\n",
       "    </tr>\n",
       "  </thead>\n",
       "  <tbody>\n",
       "    <tr>\n",
       "      <th>0</th>\n",
       "      <td>20120118</td>\n",
       "      <td>amazon.com</td>\n",
       "      <td>http://rcm.amazon.com/e/cm?lt1=_blank&amp;bc1=0000...</td>\n",
       "      <td>text/html</td>\n",
       "      <td>NaN</td>\n",
       "      <td>NaN</td>\n",
       "      <td>NaN</td>\n",
       "    </tr>\n",
       "    <tr>\n",
       "      <th>1</th>\n",
       "      <td>20120118</td>\n",
       "      <td>feedburner.com</td>\n",
       "      <td>http://feeds.feedburner.com/QuoteSnack</td>\n",
       "      <td>text/html</td>\n",
       "      <td>text/html</td>\n",
       "      <td>en</td>\n",
       "      <td>Stop SOPA! If Congress passes SOPA, the Intern...</td>\n",
       "    </tr>\n",
       "    <tr>\n",
       "      <th>2</th>\n",
       "      <td>20120118</td>\n",
       "      <td>thedeadcrows.com</td>\n",
       "      <td>http://thedeadcrows.com/sopa.html</td>\n",
       "      <td>text/html</td>\n",
       "      <td>application/xhtml+xml</td>\n",
       "      <td>en</td>\n",
       "      <td>STOP SOPA! STOP SOPA! STOP SOPA! This site has...</td>\n",
       "    </tr>\n",
       "    <tr>\n",
       "      <th>3</th>\n",
       "      <td>20120118</td>\n",
       "      <td>youtube.com</td>\n",
       "      <td>http://www.youtube.com/embed/WU_gZNVfuf0?wmode...</td>\n",
       "      <td>text/html</td>\n",
       "      <td>text/html</td>\n",
       "      <td>en</td>\n",
       "      <td>Life in a Day Soundtrack - Angolan Women - You...</td>\n",
       "    </tr>\n",
       "    <tr>\n",
       "      <th>4</th>\n",
       "      <td>20120118</td>\n",
       "      <td>selectivism.com</td>\n",
       "      <td>http://selectivism.com/2010/02/</td>\n",
       "      <td>text/html</td>\n",
       "      <td>application/xhtml+xml</td>\n",
       "      <td>en</td>\n",
       "      <td>2010  February : Selectivism ABOUT TIP-OFF CON...</td>\n",
       "    </tr>\n",
       "    <tr>\n",
       "      <th>...</th>\n",
       "      <td>...</td>\n",
       "      <td>...</td>\n",
       "      <td>...</td>\n",
       "      <td>...</td>\n",
       "      <td>...</td>\n",
       "      <td>...</td>\n",
       "      <td>...</td>\n",
       "    </tr>\n",
       "    <tr>\n",
       "      <th>219987</th>\n",
       "      <td>20120118</td>\n",
       "      <td>eff.org</td>\n",
       "      <td>https://www.eff.org/deeplinks/2012/01/sites/al...</td>\n",
       "      <td>text/html</td>\n",
       "      <td>application/xhtml+xml</td>\n",
       "      <td>en</td>\n",
       "      <td>Electronic Frontier Foundation | Defending you...</td>\n",
       "    </tr>\n",
       "    <tr>\n",
       "      <th>219988</th>\n",
       "      <td>20120118</td>\n",
       "      <td>eff.org</td>\n",
       "      <td>https://www.eff.org/deeplinks/2012/01/sites/al...</td>\n",
       "      <td>text/html</td>\n",
       "      <td>application/xhtml+xml</td>\n",
       "      <td>en</td>\n",
       "      <td>Electronic Frontier Foundation | Defending you...</td>\n",
       "    </tr>\n",
       "    <tr>\n",
       "      <th>219989</th>\n",
       "      <td>20120118</td>\n",
       "      <td>eff.org</td>\n",
       "      <td>https://www.eff.org/deeplinks/2012/01/0.8</td>\n",
       "      <td>text/html</td>\n",
       "      <td>application/xhtml+xml</td>\n",
       "      <td>en</td>\n",
       "      <td>Electronic Frontier Foundation | Defending you...</td>\n",
       "    </tr>\n",
       "    <tr>\n",
       "      <th>219990</th>\n",
       "      <td>20120118</td>\n",
       "      <td>eff.org</td>\n",
       "      <td>https://www.eff.org/deeplinks/2012/01/form.new...</td>\n",
       "      <td>text/html</td>\n",
       "      <td>application/xhtml+xml</td>\n",
       "      <td>en</td>\n",
       "      <td>Electronic Frontier Foundation | Defending you...</td>\n",
       "    </tr>\n",
       "    <tr>\n",
       "      <th>219991</th>\n",
       "      <td>20120118</td>\n",
       "      <td>eff.org</td>\n",
       "      <td>https://www.eff.org/sites/all/themes/frontier/...</td>\n",
       "      <td>text/html</td>\n",
       "      <td>NaN</td>\n",
       "      <td>NaN</td>\n",
       "      <td>NaN</td>\n",
       "    </tr>\n",
       "  </tbody>\n",
       "</table>\n",
       "<p>219992 rows × 7 columns</p>\n",
       "</div>"
      ],
      "text/plain": [
       "        crawl_date            domain  \\\n",
       "0         20120118        amazon.com   \n",
       "1         20120118    feedburner.com   \n",
       "2         20120118  thedeadcrows.com   \n",
       "3         20120118       youtube.com   \n",
       "4         20120118   selectivism.com   \n",
       "...            ...               ...   \n",
       "219987    20120118           eff.org   \n",
       "219988    20120118           eff.org   \n",
       "219989    20120118           eff.org   \n",
       "219990    20120118           eff.org   \n",
       "219991    20120118           eff.org   \n",
       "\n",
       "                                                      url  \\\n",
       "0       http://rcm.amazon.com/e/cm?lt1=_blank&bc1=0000...   \n",
       "1                  http://feeds.feedburner.com/QuoteSnack   \n",
       "2                       http://thedeadcrows.com/sopa.html   \n",
       "3       http://www.youtube.com/embed/WU_gZNVfuf0?wmode...   \n",
       "4                         http://selectivism.com/2010/02/   \n",
       "...                                                   ...   \n",
       "219987  https://www.eff.org/deeplinks/2012/01/sites/al...   \n",
       "219988  https://www.eff.org/deeplinks/2012/01/sites/al...   \n",
       "219989          https://www.eff.org/deeplinks/2012/01/0.8   \n",
       "219990  https://www.eff.org/deeplinks/2012/01/form.new...   \n",
       "219991  https://www.eff.org/sites/all/themes/frontier/...   \n",
       "\n",
       "       mime_type_web_server         mime_type_tika language  \\\n",
       "0                 text/html                    NaN      NaN   \n",
       "1                 text/html              text/html       en   \n",
       "2                 text/html  application/xhtml+xml       en   \n",
       "3                 text/html              text/html       en   \n",
       "4                 text/html  application/xhtml+xml       en   \n",
       "...                     ...                    ...      ...   \n",
       "219987            text/html  application/xhtml+xml       en   \n",
       "219988            text/html  application/xhtml+xml       en   \n",
       "219989            text/html  application/xhtml+xml       en   \n",
       "219990            text/html  application/xhtml+xml       en   \n",
       "219991            text/html                    NaN      NaN   \n",
       "\n",
       "                                                  content  \n",
       "0                                                     NaN  \n",
       "1       Stop SOPA! If Congress passes SOPA, the Intern...  \n",
       "2       STOP SOPA! STOP SOPA! STOP SOPA! This site has...  \n",
       "3       Life in a Day Soundtrack - Angolan Women - You...  \n",
       "4       2010  February : Selectivism ABOUT TIP-OFF CON...  \n",
       "...                                                   ...  \n",
       "219987  Electronic Frontier Foundation | Defending you...  \n",
       "219988  Electronic Frontier Foundation | Defending you...  \n",
       "219989  Electronic Frontier Foundation | Defending you...  \n",
       "219990  Electronic Frontier Foundation | Defending you...  \n",
       "219991                                                NaN  \n",
       "\n",
       "[219992 rows x 7 columns]"
      ]
     },
     "execution_count": 18,
     "metadata": {},
     "output_type": "execute_result"
    }
   ],
   "source": [
    "web_pages = pd.read_csv(\"data/web-pages.csv\")\n",
    "web_pages"
   ]
  },
  {
   "cell_type": "code",
   "execution_count": 19,
   "metadata": {},
   "outputs": [
    {
     "data": {
      "text/plain": [
       "crawl_date              219992\n",
       "domain                  219992\n",
       "url                     219992\n",
       "mime_type_web_server    219992\n",
       "mime_type_tika          148703\n",
       "language                145123\n",
       "content                 145359\n",
       "dtype: int64"
      ]
     },
     "execution_count": 19,
     "metadata": {},
     "output_type": "execute_result"
    }
   ],
   "source": [
    "web_pages.count()"
   ]
  },
  {
   "cell_type": "code",
   "execution_count": 20,
   "metadata": {},
   "outputs": [
    {
     "data": {
      "text/plain": [
       "219992"
      ]
     },
     "execution_count": 20,
     "metadata": {},
     "output_type": "execute_result"
    }
   ],
   "source": [
    "len(web_pages.index)"
   ]
  },
  {
   "cell_type": "markdown",
   "metadata": {},
   "source": [
    "Pivot-table to know how many times a domain has been crawl by date"
   ]
  },
  {
   "cell_type": "code",
   "execution_count": 21,
   "metadata": {},
   "outputs": [
    {
     "data": {
      "text/html": [
       "<div>\n",
       "<style scoped>\n",
       "    .dataframe tbody tr th:only-of-type {\n",
       "        vertical-align: middle;\n",
       "    }\n",
       "\n",
       "    .dataframe tbody tr th {\n",
       "        vertical-align: top;\n",
       "    }\n",
       "\n",
       "    .dataframe thead th {\n",
       "        text-align: right;\n",
       "    }\n",
       "</style>\n",
       "<table border=\"1\" class=\"dataframe\">\n",
       "  <thead>\n",
       "    <tr style=\"text-align: right;\">\n",
       "      <th></th>\n",
       "      <th>domain</th>\n",
       "      <th>crawl_date</th>\n",
       "    </tr>\n",
       "  </thead>\n",
       "  <tbody>\n",
       "    <tr>\n",
       "      <th>0</th>\n",
       "      <td>0000free.com</td>\n",
       "      <td>1</td>\n",
       "    </tr>\n",
       "    <tr>\n",
       "      <th>1</th>\n",
       "      <td>000webhost.com</td>\n",
       "      <td>1</td>\n",
       "    </tr>\n",
       "    <tr>\n",
       "      <th>2</th>\n",
       "      <td>000webhost.com</td>\n",
       "      <td>1</td>\n",
       "    </tr>\n",
       "    <tr>\n",
       "      <th>3</th>\n",
       "      <td>0xfeedface.org</td>\n",
       "      <td>1</td>\n",
       "    </tr>\n",
       "    <tr>\n",
       "      <th>4</th>\n",
       "      <td>1000notes.com</td>\n",
       "      <td>1</td>\n",
       "    </tr>\n",
       "    <tr>\n",
       "      <th>...</th>\n",
       "      <td>...</td>\n",
       "      <td>...</td>\n",
       "    </tr>\n",
       "    <tr>\n",
       "      <th>5686</th>\n",
       "      <td>zunox.co</td>\n",
       "      <td>1</td>\n",
       "    </tr>\n",
       "    <tr>\n",
       "      <th>5687</th>\n",
       "      <td>zxq.net</td>\n",
       "      <td>1</td>\n",
       "    </tr>\n",
       "    <tr>\n",
       "      <th>5688</th>\n",
       "      <td>zymic.com</td>\n",
       "      <td>1</td>\n",
       "    </tr>\n",
       "    <tr>\n",
       "      <th>5689</th>\n",
       "      <td>zzl.org</td>\n",
       "      <td>1</td>\n",
       "    </tr>\n",
       "    <tr>\n",
       "      <th>5690</th>\n",
       "      <td>zzzen.com</td>\n",
       "      <td>1</td>\n",
       "    </tr>\n",
       "  </tbody>\n",
       "</table>\n",
       "<p>5691 rows × 2 columns</p>\n",
       "</div>"
      ],
      "text/plain": [
       "              domain  crawl_date\n",
       "0       0000free.com           1\n",
       "1     000webhost.com           1\n",
       "2     000webhost.com           1\n",
       "3     0xfeedface.org           1\n",
       "4      1000notes.com           1\n",
       "...              ...         ...\n",
       "5686        zunox.co           1\n",
       "5687         zxq.net           1\n",
       "5688       zymic.com           1\n",
       "5689         zzl.org           1\n",
       "5690       zzzen.com           1\n",
       "\n",
       "[5691 rows x 2 columns]"
      ]
     },
     "execution_count": 21,
     "metadata": {},
     "output_type": "execute_result"
    }
   ],
   "source": [
    "groupby_web_pages = web_pages.groupby(by=['domain','crawl_date'], as_index=False).agg({'crawl_date': pd.Series.nunique})\n",
    "groupby_web_pages"
   ]
  },
  {
   "cell_type": "markdown",
   "metadata": {
    "id": "3HPwOCNAvqMe"
   },
   "source": [
    "# Data Analysis\n",
    "\n",
    "Now that we have all of our datasets loaded up, we can begin to work with them!"
   ]
  },
  {
   "cell_type": "markdown",
   "metadata": {
    "id": "J6Pkg0prv3BE"
   },
   "source": [
    "## Counting total files, and unique files\n",
    "\n",
    "Let's take a quick look at how to count items in DataFrames, and use total and unique files as an example to work with.\n",
    "\n",
    "It's definitely work checking out the [pandas documentation](https://pandas.pydata.org/docs/index.html). There are a lot of good examples available, along with a robust [API reference](https://pandas.pydata.org/docs/reference/index.html#api)."
   ]
  },
  {
   "cell_type": "markdown",
   "metadata": {
    "id": "DFX4Gl3wv7bi"
   },
   "source": [
    "\n",
    "#### How many images are in this collection?\n",
    "\n",
    "We can take our `images` variable try a couple of functions to get the same answer.\n",
    "\n",
    "1.   `len(images.index)`\n",
    "  * Get the length of the DataFrame's index.\n",
    "2.   `images.shape[0]`\n",
    "  * Get the shape or dimensionality of the DataFrame, and take the first item in the tuple.\n",
    "3.  `images.count()`\n",
    "  * Count the number of rows for each column.\n",
    "\n"
   ]
  },
  {
   "cell_type": "code",
   "execution_count": 22,
   "metadata": {
    "colab": {
     "base_uri": "https://localhost:8080/"
    },
    "id": "HTv8Oet3jiTH",
    "outputId": "b3c5db59-0920-4f4b-c838-efb55c36fe91"
   },
   "outputs": [
    {
     "data": {
      "text/plain": [
       "130402"
      ]
     },
     "execution_count": 22,
     "metadata": {},
     "output_type": "execute_result"
    }
   ],
   "source": [
    "len(images.index)"
   ]
  },
  {
   "cell_type": "code",
   "execution_count": 23,
   "metadata": {
    "colab": {
     "base_uri": "https://localhost:8080/"
    },
    "id": "6rYEERnTjifk",
    "outputId": "68d7d3c4-49e6-416d-a0c2-f05db1e53cb6"
   },
   "outputs": [
    {
     "data": {
      "text/plain": [
       "130402"
      ]
     },
     "execution_count": 23,
     "metadata": {},
     "output_type": "execute_result"
    }
   ],
   "source": [
    "images.shape[0]"
   ]
  },
  {
   "cell_type": "code",
   "execution_count": 24,
   "metadata": {
    "colab": {
     "base_uri": "https://localhost:8080/"
    },
    "id": "bn-1v127aKIG",
    "outputId": "3c248b21-ac6c-4cc5-ead5-db0b71efed50"
   },
   "outputs": [
    {
     "data": {
      "text/plain": [
       "crawl_date              130402\n",
       "url                     130402\n",
       "filename                129766\n",
       "extension               130402\n",
       "mime_type_web_server    130391\n",
       "mime_type_tika          130402\n",
       "width                   130402\n",
       "height                  130402\n",
       "md5                     130402\n",
       "sha1                    130402\n",
       "dtype: int64"
      ]
     },
     "execution_count": 24,
     "metadata": {},
     "output_type": "execute_result"
    }
   ],
   "source": [
    "images.count()"
   ]
  },
  {
   "cell_type": "markdown",
   "metadata": {
    "id": "38veKiPhwKo4"
   },
   "source": [
    " #### How many unique images are in the collection?\n",
    "\n",
    " We can see if an image is unique or not by computing an [MD5 hash](https://en.wikipedia.org/wiki/MD5#MD5_hashes) of it, and comparing them. The exact same image might have a filename of `example.jpg` or `foo.jpg`. If the hash is computed for each, we can see that even with different file names, they are actually the same image. So, since we have both a `MD5` and `SHA1` hash column available in our DataFrame, we can just find the unique values, and count them!\n",
    "\n",
    "\n"
   ]
  },
  {
   "cell_type": "code",
   "execution_count": 25,
   "metadata": {
    "colab": {
     "base_uri": "https://localhost:8080/"
    },
    "id": "WesM3kQowM5B",
    "outputId": "645d661a-b0a1-4cb9-af66-47df5d1b97a7"
   },
   "outputs": [
    {
     "data": {
      "text/plain": [
       "91594"
      ]
     },
     "execution_count": 25,
     "metadata": {},
     "output_type": "execute_result"
    }
   ],
   "source": [
    "len(images.md5.unique())"
   ]
  },
  {
   "cell_type": "markdown",
   "metadata": {
    "id": "ZIXkI0-1wWQf"
   },
   "source": [
    "#### What are the top 10 most occurring images in the collection?\n",
    "\n",
    "Here we can take advantage of [`value_counts()`](https://pandas.pydata.org/docs/reference/api/pandas.DataFrame.value_counts.html) to provide us with a list of MD5 hashes, and their respective counts."
   ]
  },
  {
   "cell_type": "code",
   "execution_count": 26,
   "metadata": {
    "colab": {
     "base_uri": "https://localhost:8080/"
    },
    "id": "8Ts03OFyjPIM",
    "outputId": "bf9870c7-40e5-474c-b38a-d35aa4a4c3f6"
   },
   "outputs": [
    {
     "data": {
      "text/plain": [
       "59a0c7b6e4848ccdabcea0636efda02b    443\n",
       "6d22e4f2d2057c6e8d6fab098e76e80f    270\n",
       "325472601571f31e1bf00674c368d335    245\n",
       "fc94fb0c3ed8a8f909dbc7630a0987ff    241\n",
       "28d6814f309ea289f847c69cf91194c6    228\n",
       "56398e76be6355ad5999b262208a17c9    224\n",
       "b4491705564909da7f9eaf749dbbfbb1    221\n",
       "9a8269421303631316be4ab5e34870e1    147\n",
       "df3e567d6f16d040326c7a0ea29a4f41    145\n",
       "13e1c7a2184e36d7ae519e99b1aa226f    139\n",
       "Name: md5, dtype: int64"
      ]
     },
     "execution_count": 26,
     "metadata": {},
     "output_type": "execute_result"
    }
   ],
   "source": [
    "images[\"md5\"].value_counts().head(10)"
   ]
  },
  {
   "cell_type": "markdown",
   "metadata": {
    "id": "FG7pGZUEwlaI"
   },
   "source": [
    "\n",
    "#### What's the information around all of the occurances of `d89746888da2d9510b64a9f031eaecd5`?\n",
    "\n",
    "What, you mean you don't know what `d89746888da2d9510b64a9f031eaecd5` means? \n",
    "\n",
    "Let's find those images in the DataFrame. We can here see some of the filenames used, it's dimensions, and it's URL.\n"
   ]
  },
  {
   "cell_type": "code",
   "execution_count": null,
   "metadata": {
    "colab": {
     "base_uri": "https://localhost:8080/",
     "height": 637
    },
    "id": "msmmm65lkSIK",
    "outputId": "e9227287-108a-4d53-8a24-91bf1a665647"
   },
   "outputs": [],
   "source": [
    "images.loc[images[\"md5\"] == \"d89746888da2d9510b64a9f031eaecd5\"]"
   ]
  },
  {
   "cell_type": "markdown",
   "metadata": {
    "id": "kE-8epARIG0-"
   },
   "source": [
    "### What does `377d257f2d2e294916143c069141c1c5` look like?\n",
    "\n",
    "Let's grab the live web URL for the image, and then see if we can display it in a markdown cell.\n"
   ]
  },
  {
   "cell_type": "code",
   "execution_count": null,
   "metadata": {
    "colab": {
     "base_uri": "https://localhost:8080/"
    },
    "id": "wB3VqcmgJQM0",
    "outputId": "67a36914-60fe-485e-c592-a1b777c5925a"
   },
   "outputs": [],
   "source": [
    "pd.options.display.max_colwidth = None\n",
    "one_image = images.loc[images[\"md5\"] == \"377d257f2d2e294916143c069141c1c5\"].head(1)\n",
    "one_image[\"url\"]"
   ]
  },
  {
   "cell_type": "markdown",
   "metadata": {
    "id": "5YV2u_8aLEJS"
   },
   "source": [
    "![377d257f2d2e294916143c069141c1c5](https://analytics.twitter.com/i/adsct?txn_id=l4o6d&p_id=Twitter)"
   ]
  },
  {
   "cell_type": "markdown",
   "metadata": {
    "id": "6YfsUGSRt1Ns"
   },
   "source": [
    "Well, yes, this is a transparent GIF."
   ]
  },
  {
   "cell_type": "markdown",
   "metadata": {
    "id": "DrDaY-C8iwhl"
   },
   "source": [
    "\n",
    "Another point of examination with the `images` DataFrame is the `height` and `width` columns. You could take a look at the largest images, or even `0x0` images, and potentially `spacer.gif` occurrences!\n",
    "\n",
    "* “[The invention and dissemination of the spacer gif: implications for the future of access and use of web archives](https://link.springer.com/article/10.1007/s42803-019-00006-8)”\n",
    "* \"[GeoCities and the spacer.gif](https://ruebot.net/post/geocities-and-the-spacer-gif/)\"\n"
   ]
  },
  {
   "cell_type": "markdown",
   "metadata": {
    "id": "GbLLZW2awzCv"
   },
   "source": [
    "#### What are the top 10 most occuring filenames in the collection?\n",
    "\n",
    "Note that this is of course different than the MD5 results up above. Here we are focusing _just_ on filename. So `cover.jpg` for example, might actually be referring to different images who happen to have the same name.\n",
    "\n",
    "Here we can use `value_counts()` again, but this time we'll create a variable for the top filenames so we can use it later.\n",
    "\n"
   ]
  },
  {
   "cell_type": "code",
   "execution_count": null,
   "metadata": {
    "colab": {
     "base_uri": "https://localhost:8080/"
    },
    "id": "pQaw54ACkwdZ",
    "outputId": "ff03cbcc-6886-4b74-fc62-8a821598f9cf"
   },
   "outputs": [],
   "source": [
    "top_filenames = images[\"filename\"].value_counts().head(10)\n",
    "top_filenames"
   ]
  },
  {
   "cell_type": "markdown",
   "metadata": {
    "id": "Z7F3re20BQRI"
   },
   "source": [
    "#### Let's create our first graph!\n",
    "\n",
    "We'll plot the data first with pandas [plot](https://pandas.pydata.org/docs/reference/api/pandas.Series.plot.html) functionality, and then plot the data with [Altair](https://altair-viz.github.io/)."
   ]
  },
  {
   "cell_type": "code",
   "execution_count": null,
   "metadata": {
    "colab": {
     "base_uri": "https://localhost:8080/",
     "height": 716
    },
    "id": "sRvlstfsBWEZ",
    "outputId": "f984304d-1e05-488b-9fa8-09024970ae98"
   },
   "outputs": [],
   "source": [
    "top_filenames_chart = top_filenames.plot.bar(figsize=(25, 10))\n",
    "\n",
    "top_filenames_chart.set_title(\"Top Filenames\", fontsize=22)\n",
    "top_filenames_chart.set_xlabel(\"Filename\", fontsize=20)\n",
    "top_filenames_chart.set_ylabel(\"Count\", fontsize=20)"
   ]
  },
  {
   "cell_type": "markdown",
   "metadata": {
    "id": "pQgeOObvgLvK"
   },
   "source": [
    "Now let's setup Altair, and plot the data with Altair. Altair is useful for creating vizualization since they can be easily exported as a PNG or SVG."
   ]
  },
  {
   "cell_type": "code",
   "execution_count": null,
   "metadata": {
    "id": "Q7Z4J6qjWaVM"
   },
   "outputs": [],
   "source": [
    "import altair as alt"
   ]
  },
  {
   "cell_type": "code",
   "execution_count": null,
   "metadata": {
    "colab": {
     "base_uri": "https://localhost:8080/",
     "height": 846
    },
    "id": "s0xwvILYWkgg",
    "outputId": "6d8f7eb2-63d1-4a8d-ed13-532396b4996c"
   },
   "outputs": [],
   "source": [
    "top_filenames_altair = (\n",
    "    images[\"filename\"]\n",
    "    .value_counts()\n",
    "    .head(10)\n",
    "    .rename_axis(\"Filename\")\n",
    "    .reset_index(name=\"Count\")\n",
    ")\n",
    "\n",
    "filenames_bar = (\n",
    "    alt.Chart(top_filenames_altair)\n",
    "    .mark_bar()\n",
    "    .encode(x=alt.X(\"Filename:O\", sort=\"-y\"), y=alt.Y(\"Count:Q\"))\n",
    ")\n",
    "\n",
    "filenames_rule = (\n",
    "    alt.Chart(top_filenames_altair).mark_rule(color=\"red\").encode(y=\"mean(Count):Q\")\n",
    ")\n",
    "\n",
    "\n",
    "filenames_text = filenames_bar.mark_text(align=\"center\", baseline=\"bottom\").encode(\n",
    "    text=\"Count:Q\"\n",
    ")\n",
    "\n",
    "(filenames_bar + filenames_rule + filenames_text).properties(\n",
    "    width=1400, height=700, title=\"Top Filenames\"\n",
    ")"
   ]
  },
  {
   "cell_type": "markdown",
   "metadata": {
    "id": "BneaN9cgGoly"
   },
   "source": [
    "#### How about a file format distribution?\n",
    "\n",
    "What _kind_ of image files are present? We can discover this by checking their \"media type\", or [MIME type](https://en.wikipedia.org/wiki/Media_type). \n",
    "\n",
    "\n",
    "\n",
    "\n"
   ]
  },
  {
   "cell_type": "code",
   "execution_count": null,
   "metadata": {
    "colab": {
     "base_uri": "https://localhost:8080/",
     "height": 901
    },
    "id": "RDd-J8D-GwDk",
    "outputId": "589699f2-77f7-4323-998e-a82517181e7f"
   },
   "outputs": [],
   "source": [
    "image_mime_types = (\n",
    "    images[\"mime_type_tika\"]\n",
    "    .value_counts()\n",
    "    .head(5)\n",
    "    .rename_axis(\"MIME Type\")\n",
    "    .reset_index(name=\"Count\")\n",
    ")\n",
    "\n",
    "image_mimes_bar = (\n",
    "    alt.Chart(image_mime_types)\n",
    "    .mark_bar()\n",
    "    .encode(x=alt.X(\"MIME Type:O\", sort=\"-y\"), y=alt.Y(\"Count:Q\"))\n",
    ")\n",
    "\n",
    "image_mime_rule = (\n",
    "    alt.Chart(image_mime_types).mark_rule(color=\"red\").encode(y=\"mean(Count):Q\")\n",
    ")\n",
    "\n",
    "image_mime_text = image_mimes_bar.mark_text(align=\"center\", baseline=\"bottom\").encode(\n",
    "    text=\"Count:Q\"\n",
    ")\n",
    "\n",
    "(image_mimes_bar + image_mime_rule + image_mime_text).properties(\n",
    "    width=1400, height=700, title=\"Image File Format Distribution\"\n",
    ")"
   ]
  },
  {
   "cell_type": "markdown",
   "metadata": {
    "id": "dKqzuDVz-GiF"
   },
   "source": [
    "## Let's take a look at the domain frequency derivative."
   ]
  },
  {
   "cell_type": "markdown",
   "metadata": {
    "id": "QGHnjGRQPzqV"
   },
   "source": [
    "#### What does the distribution of domains look like?\n",
    "\n",
    "Here we can see which domains are the most frequent within the collection."
   ]
  },
  {
   "cell_type": "code",
   "execution_count": null,
   "metadata": {
    "colab": {
     "base_uri": "https://localhost:8080/",
     "height": 881
    },
    "id": "C_X_YSD4PyQi",
    "outputId": "3e3deab3-ed7e-4415-8eaf-1117b3756c68"
   },
   "outputs": [],
   "source": [
    "top_domains = domain_frequency.sort_values(\"count\", ascending=False).head(10)\n",
    "\n",
    "top_domains_bar = (\n",
    "    alt.Chart(top_domains)\n",
    "    .mark_bar()\n",
    "    .encode(\n",
    "        x=alt.X(\"domain:O\", title=\"Domain\", sort=\"-y\"),\n",
    "        y=alt.Y(\"count:Q\", title=\"Count, Mean of Count\"),\n",
    "    )\n",
    ")\n",
    "\n",
    "top_domains_rule = (\n",
    "    alt.Chart(top_domains).mark_rule(color=\"red\").encode(y=\"mean(count):Q\")\n",
    ")\n",
    "\n",
    "top_domains_text = top_domains_bar.mark_text(align=\"center\", baseline=\"bottom\").encode(\n",
    "    text=\"count:Q\"\n",
    ")\n",
    "\n",
    "(top_domains_bar + top_domains_rule + top_domains_text).properties(\n",
    "    width=1400, height=700, title=\"Domains Distribution\"\n",
    ")"
   ]
  },
  {
   "cell_type": "markdown",
   "metadata": {
    "id": "VDXDhqCcyyFj"
   },
   "source": [
    "### Top Level Domain Analysis\n",
    "\n",
    "pandas allows you to create new columns in a DataFrame based off of existing data. This comes in handy for a number of use cases with the available data that we have. In this case, let's create a new column, `tld`, which is based off an existing column, 'domain'. This example should provide you with an implementation pattern for expanding on these datasets to do further research and analysis.\n",
    "\n",
    "A [top-level domain](https://en.wikipedia.org/wiki/Top-level_domain) refers to the highest domain in an address - i.e. `.ca`, `.com`, `.org`, or yes, even `.pizza`.\n",
    "\n",
    "Things get a bit complicated, however, in some national TLDs. While `qc.ca` (the domain for Quebec) isn't really a top-level domain, it has many of the features of one as people can directly register under it. Below, we'll use the command `suffix` to include this. \n",
    "\n",
    "> You can learn more about suffixes at https://publicsuffix.org.\n",
    "\n",
    "We'll take the `domain` column and extract the `tld` from it with [`tldextract`](https://github.com/john-kurkowski/tldextract).\n",
    "\n",
    "First we'll add the [`tldextract`](https://github.com/john-kurkowski/tldextract) library to the notebook. Then, we'll create the new column."
   ]
  },
  {
   "cell_type": "code",
   "execution_count": null,
   "metadata": {
    "id": "clPJuQAe5mcg"
   },
   "outputs": [],
   "source": [
    "%%capture\n",
    "\n",
    "!pip install tldextract"
   ]
  },
  {
   "cell_type": "code",
   "execution_count": null,
   "metadata": {
    "colab": {
     "base_uri": "https://localhost:8080/",
     "height": 637
    },
    "id": "mv7a-MLIx-3f",
    "outputId": "cd120ca9-39f4-4294-a00f-e466539907ee"
   },
   "outputs": [],
   "source": [
    "import tldextract\n",
    "\n",
    "domain_frequency[\"tld\"] = domain_frequency.apply(\n",
    "    lambda row: tldextract.extract(row.domain).suffix, axis=1\n",
    ")\n",
    "domain_frequency"
   ]
  },
  {
   "cell_type": "markdown",
   "metadata": {
    "id": "jdXFS2yu8XYG"
   },
   "source": [
    "#### Next, let's count the distict TLDs.\n"
   ]
  },
  {
   "cell_type": "code",
   "execution_count": null,
   "metadata": {
    "colab": {
     "base_uri": "https://localhost:8080/"
    },
    "id": "1lViQIU48e-u",
    "outputId": "caf97710-ff09-4bcf-fdd9-9e1c93af34e4"
   },
   "outputs": [],
   "source": [
    "tld_count = domain_frequency[\"tld\"].value_counts()\n",
    "tld_count"
   ]
  },
  {
   "cell_type": "markdown",
   "metadata": {
    "id": "xm_V_0PGzZut"
   },
   "source": [
    "#### Next, we'll plot the TLD count.\n"
   ]
  },
  {
   "cell_type": "code",
   "execution_count": null,
   "metadata": {
    "colab": {
     "base_uri": "https://localhost:8080/",
     "height": 804
    },
    "id": "N8yNlOa-zmBD",
    "outputId": "eb39d031-d35b-44de-a4c9-47472940f421"
   },
   "outputs": [],
   "source": [
    "tld_count = (\n",
    "    domain_frequency[\"tld\"]\n",
    "    .value_counts()\n",
    "    .rename_axis(\"TLD\")\n",
    "    .reset_index(name=\"Count\")\n",
    "    .head(10)\n",
    ")\n",
    "\n",
    "tld_bar = (\n",
    "    alt.Chart(tld_count)\n",
    "    .mark_bar()\n",
    "    .encode(x=alt.X(\"TLD:O\", sort=\"-y\"), y=alt.Y(\"Count:Q\"))\n",
    ")\n",
    "\n",
    "tld_rule = alt.Chart(tld_count).mark_rule(color=\"red\").encode(y=\"mean(Count):Q\")\n",
    "\n",
    "tld_text = tld_bar.mark_text(align=\"center\", baseline=\"bottom\").encode(text=\"Count:Q\")\n",
    "\n",
    "(tld_bar + tld_rule + tld_text).properties(\n",
    "    width=1400, height=700, title=\"Top Level Domain Distribution\"\n",
    ")"
   ]
  },
  {
   "cell_type": "markdown",
   "metadata": {
    "id": "sLriRk2UFlFP"
   },
   "source": [
    "## Web Crawl Frequency\n",
    "\n",
    "Let's see what the crawl frequency looks like by examining the `web_pages` DataFrame. First we'll create a new DataFrame by extracting the `crawl_date` and `domain` columns, and count the occurances of each domain and date combination."
   ]
  },
  {
   "cell_type": "code",
   "execution_count": null,
   "metadata": {
    "colab": {
     "base_uri": "https://localhost:8080/",
     "height": 637
    },
    "id": "_gGjFO6DAOYT",
    "outputId": "e594cbae-d664-4d55-ec53-227173d71708"
   },
   "outputs": [],
   "source": [
    "crawl_sites = web_pages[[\"crawl_date\", \"domain\"]]\n",
    "crawl_sites = crawl_sites.value_counts().reset_index()\n",
    "crawl_sites.columns = [\"Date\", \"Site\", \"Count\"]\n",
    "crawl_sites"
   ]
  },
  {
   "cell_type": "markdown",
   "metadata": {
    "id": "QCJLNokxGaBk"
   },
   "source": [
    "Next, we'll create a stacked bar chart where each bar will show the distribution of pages in that crawl by top-level domain.\n",
    "\n",
    "**NOTE**: Charts like this one work a lot better with collections that have more than 1 or 2 crawl dates. The temporal aspect is definitely something to take into consideration with each of the examples provided in this notebook."
   ]
  },
  {
   "cell_type": "code",
   "execution_count": null,
   "metadata": {
    "colab": {
     "base_uri": "https://localhost:8080/",
     "height": 825
    },
    "id": "xQAx6JpNDL-I",
    "outputId": "dd292885-30a0-463a-93d7-9edf5fd95677"
   },
   "outputs": [],
   "source": [
    "## Altair has a default limit of 5000 rows, and this DataFrame is ~7700 rows, so we're going to disable the max allowed rows.\n",
    "alt.data_transformers.disable_max_rows()\n",
    "\n",
    "crawl_chart = (\n",
    "    alt.Chart(crawl_sites)\n",
    "    .mark_bar()\n",
    "    .encode(\n",
    "        x=\"Date:O\",\n",
    "        y=\"Count:Q\",\n",
    "        color=\"Site\",\n",
    "        tooltip=\"Site\",\n",
    "        order=alt.Order(\"Site\", sort=\"descending\"),\n",
    "    )\n",
    ")\n",
    "\n",
    "crawl_chart.properties(width=1400, height=700, title=\"Web Crawl Frequency\")"
   ]
  }
 ],
 "metadata": {
  "colab": {
   "include_colab_link": true,
   "machine_shape": "hm",
   "name": "arch-example.ipynb",
   "provenance": []
  },
  "kernelspec": {
   "display_name": "Python 3 (ipykernel)",
   "language": "python",
   "name": "python3"
  },
  "language_info": {
   "codemirror_mode": {
    "name": "ipython",
    "version": 3
   },
   "file_extension": ".py",
   "mimetype": "text/x-python",
   "name": "python",
   "nbconvert_exporter": "python",
   "pygments_lexer": "ipython3",
   "version": "3.8.2"
  },
  "toc": {
   "base_numbering": 1,
   "nav_menu": {},
   "number_sections": true,
   "sideBar": true,
   "skip_h1_title": false,
   "title_cell": "Table of Contents",
   "title_sidebar": "Contents",
   "toc_cell": false,
   "toc_position": {},
   "toc_section_display": true,
   "toc_window_display": true
  },
  "toc-autonumbering": true,
  "toc-showcode": false,
  "toc-showmarkdowntxt": false
 },
 "nbformat": 4,
 "nbformat_minor": 4
}
